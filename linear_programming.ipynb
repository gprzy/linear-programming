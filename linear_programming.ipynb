{
  "cells": [
    {
      "cell_type": "markdown",
      "metadata": {
        "id": "PTYP260vj6I5"
      },
      "source": [
        "# **AVALIAÇÃO 01: INVESTIGAÇÃO OPERACIONAL**\n",
        "##  Exercícios de programação linear\n",
        "\n",
        "<font face=\"CMU Serif\" size=\"4px\"><i>Gabriel Przytocki; Pedro Contessoto; Valdemar Ceccon</i></font> <br>\n",
        "Abril, 2022"
      ]
    },
    {
      "cell_type": "code",
      "source": [
        "# download de pacotes necessários para o LaTeX\n",
        "!sudo apt-get install texlive-latex-recommended\n",
        "!sudo apt install texlive-latex-extra\n",
        "!sudo apt install dvipng\n",
        "!sudo apt install texlive-fonts-recommended texlive-fonts-extra cm-super dvipng\n",
        "!sudo apt install texlive-fonts-recommended texlive-fonts-extra lmr-super dvipng\n",
        "!sudo apt-get install dvipng texlive-latex-extra texlive-fonts-recommended"
      ],
      "metadata": {
        "id": "VbhrTvcMH06T"
      },
      "execution_count": null,
      "outputs": []
    },
    {
      "cell_type": "code",
      "execution_count": null,
      "metadata": {
        "id": "x6Q2vYztEtrp"
      },
      "outputs": [],
      "source": [
        "# importação das bibliotecas necessárias\n",
        "!pip install pulp --quiet\n",
        "from pulp import *\n",
        "\n",
        "import numpy as np\n",
        "import matplotlib.pyplot as plt"
      ]
    },
    {
      "cell_type": "code",
      "source": [
        "# configurações do matplotlib para exibir gráficos com LaTeX\n",
        "plt.rc('text', usetex=True)\n",
        "plt.rcParams['font.size'] = 14\n",
        "\n",
        "plt.rcParams['mathtext.fontset'] = 'stix'\n",
        "plt.rcParams['font.family'] = 'STIXGeneral'\n",
        "plt.rcParams['mathtext.rm'] = 'Bitstream Vera Sans'\n",
        "plt.rcParams['mathtext.it'] = 'Bitstream Vera Sans:italic'\n",
        "plt.rcParams['mathtext.bf'] = 'Bitstream Vera Sans:bold'"
      ],
      "metadata": {
        "id": "J1lgjrWTIAqE"
      },
      "execution_count": null,
      "outputs": []
    },
    {
      "cell_type": "markdown",
      "metadata": {
        "id": "WrttV1vIeDlL"
      },
      "source": [
        "## **PROBLEMA 01**\n",
        "\n",
        "<font face=\"CMU Serif\" size=\"4px\">\n",
        "Um fabricante produz bicicletas e motoretas, devendo cada uma delas ser processada em duas oficinas. A oficina $1$ tem um máximo de 120 hora de trabalho disponível e a oficina $2$ um máximo de 180 h. O fabrico de uma bicicleta requer 6 hora de trabalho na oficina $1$ e 3 h na oficina $2$. O fabrico de uma motoreta requer 4 h na oficina $1$ e 1 hora na oficina $2$. O lucro é de 30 € por bicicleta e de 40 € por motoreta. Formule o problema da determinação do plano de produção como sendo de programação linear, de modo a maximizar o lucro.\n",
        "</font>"
      ]
    },
    {
      "cell_type": "markdown",
      "metadata": {
        "id": "NS44jeDZpzd5"
      },
      "source": [
        "### Modelagem e resolução\n",
        "**Variáveis** <br>\n",
        "$x_1$: Quantidade de bicicletas <br>\n",
        "$x_2$: Quantidade de motoretas <br>\n",
        "\n",
        "**Função objetivo** <br>\n",
        "$$ \\max \\ 30x_1 + 40x_2 $$ <br>\n",
        "\n",
        "**Restrições** <br>\n",
        "$ 6x_1 + 4x_2 \\leq 120 $ <br>\n",
        "$ 3x_1 + 1x_2 \\leq 180 $"
      ]
    },
    {
      "cell_type": "code",
      "execution_count": null,
      "metadata": {
        "colab": {
          "base_uri": "https://localhost:8080/"
        },
        "id": "wmsXH55GeE_z",
        "outputId": "78a0e90c-a029-49c8-b504-a06cd6591458"
      },
      "outputs": [
        {
          "output_type": "stream",
          "name": "stdout",
          "text": [
            "n_bicicletas = 0.0\n",
            "n_motoretas = 30.0\n",
            "\n",
            "Lucro máximo (€) = 1200.0\n"
          ]
        }
      ],
      "source": [
        "# resolução do problema\n",
        "prob = LpProblem('problema_1_bicicletas_e_motoretas', LpMaximize)\n",
        "\n",
        "# variáveis\n",
        "x1 = LpVariable('n_bicicletas', lowBound=0, cat=const.LpInteger)\n",
        "x2 = LpVariable('n_motoretas', lowBound=0, cat=const.LpInteger)\n",
        "\n",
        "# função objetivo\n",
        "prob += 30*x1 + 40*x2\n",
        "\n",
        "# restrições\n",
        "prob += 6*x1 + 4*x2 <= 120\n",
        "prob += 3*x1 + 1*x2 <= 180\n",
        "\n",
        "prob.solve()\n",
        "\n",
        "for v in prob.variables():\n",
        "    print(v.name, '=', v.varValue)\n",
        "\n",
        "print('\\nLucro máximo (€) =', value(prob.objective))"
      ]
    },
    {
      "cell_type": "markdown",
      "source": [
        "### Gráfico com região factível"
      ],
      "metadata": {
        "id": "6PKlnZzRI-KV"
      }
    },
    {
      "cell_type": "code",
      "source": [
        "x = np.linspace(-20, 70, 1000)\n",
        "\n",
        "# 6*x1 + 4*x2 <= 120\n",
        "y1 = (6*x - 120+5)/-4\n",
        "\n",
        "# 3*x1 + 1*x2 <= 180\n",
        "y2 = (3*x - 180)/-1\n",
        "\n",
        "plt.plot(x, y1, label=r'$6x_1 + 4x_2 \\leq 120$')\n",
        "plt.plot(x, y2, label=r'$4x_1 + 1x_2 \\leq 180$')\n",
        "\n",
        "plt.axvline(linestyle=':', color='black', alpha=.6)\n",
        "plt.axhline(linestyle=':', color='black', alpha=.6)\n",
        "\n",
        "plt.scatter([20,0],[0,30], zorder=5, color='r', label='Pontos ótimos')\n",
        "plt.scatter([0,0],[0,0], zorder=5, color='r')\n",
        "\n",
        "plt.xlabel(r'$x_1$', fontsize=24)\n",
        "plt.ylabel(r'$x_2$', fontsize=24)\n",
        "\n",
        "plt.xlim(-10,70)\n",
        "plt.ylim(-20,180+20)\n",
        "\n",
        "\n",
        "plt.fill_between(x, y2, where=((y2>0)&(y2<180)), color='grey', alpha=0.2)\n",
        "plt.fill_between(x, y1, where=((y1>0)&(y1<30-1)), color='grey', alpha=0.4)\n",
        "\n",
        "plt.legend(fontsize=18);\n",
        "\n",
        "plt.grid(linestyle=':', alpha=.5)\n",
        "plt.title('Região factível em relação às restrições\\n' \\\n",
        "          + 'para $\\max 30x_1 + 40x_2$', fontsize=20);"
      ],
      "metadata": {
        "id": "eVL6-AOf6-Bl",
        "colab": {
          "base_uri": "https://localhost:8080/",
          "height": 333
        },
        "outputId": "912b5889-dc69-49a5-ba06-776254686fe8"
      },
      "execution_count": null,
      "outputs": [
        {
          "output_type": "display_data",
          "data": {
            "text/plain": [
              "<Figure size 432x288 with 1 Axes>"
            ],
            "image/png": "[encoded data removed]"
          },
          "metadata": {
            "needs_background": "light"
          }
        }
      ]
    },
    {
      "cell_type": "markdown",
      "metadata": {
        "id": "QJ7pY7HYfkKH"
      },
      "source": [
        "---\n",
        "## **PROBLEMA 02**\n",
        "<p>\n",
        "<font face=\"CMU Serif\" size=\"4px\">\n",
        "Uma empresa metalomecânica decidiu abandonar a produção de alguns produtos não\n",
        "lucrativos da sua gama de fabrico. Esta decisão conduz à existência de excesso de capacidade de produção em algumas secções da fábrica, que a administração pensa utilizar para produzir três novos produtos ($P_1$, $P_2$, e $P_3$) mais rentáveis.\n",
        "A capacidade disponível em cada uma das três secções que podem limitar a produção destes produtos é dada na tabela seguinte:\n",
        "</font>\n",
        "</p>\n",
        "\n",
        "| Disponibilidade | Secção Horas/semana |\n",
        "|-----------------|---------------------|\n",
        "| **Frezadoras**      | 500                 |\n",
        "| **Tornos**          | 350                 |\n",
        "| **Furadoras**       | 150                 |\n",
        "\n",
        "<br>\n",
        "<font face=\"CMU Serif\" size=\"4px\">\n",
        "O número de horas necessárias, em cada secção, para produzir uma unidade de cada um dos produtos apresenta-se na seguinte tabela:\n",
        "</font>\n",
        "\n",
        "| Disponibilidade | $P_1$ | $P_2$ | $P_3$ |\n",
        "|-----------------|------|------|------|\n",
        "| **Frezadoras**      | $9$  | $3$  | $5$  |\n",
        "| **Tornos**          | $5$  | $4$  | $0$  |\n",
        "| **Furadoras**       | $3$  | $0$  | $2$  |\n",
        "\n",
        "<br>\n",
        "<p>\n",
        "<font face=\"CMU Serif\" size=\"4px\">\n",
        "O departamento de vendas prevê que a procura dos produtos $P_1$ e $P_3$ excede a capacidade de produção destes produtos e que a procura semanal do produto $P_2$ é de 20 unidades. O lucro unitário é de 33 $u.m.$, 12 $u.m.$ e 19 $u.m.$, respectivamente, para os produtos $P_1$, $P_2$ e $P_3$.\n",
        "</font>\n",
        "</p>\n",
        "\n",
        "<p>\n",
        "<font face=\"CMU Serif\" size=\"4px\">\n",
        "Formule este problema, como um problema de programação linear de modo a \n",
        "determinar qual o número de unidades a fabricar semanalmente de cada um dos \n",
        "produtos, por forma a maximizar o lucro.\n",
        "</font>\n",
        "</p>"
      ]
    },
    {
      "cell_type": "markdown",
      "metadata": {
        "id": "Hw5Pe6lvjsrk"
      },
      "source": [
        "### Modelagem e resolução\n",
        "**Variáveis** <br>\n",
        "$x_1$: Quantidade de produtos $P_1$ <br>\n",
        "$x_2$: Quantidade de produtos $P_2$ <br>\n",
        "$x_2$: Quantidade de produtos $P_3$ <br>\n",
        "\n",
        "**Função objetivo** <br>\n",
        "$$ \\max \\ 33x_1 + 12x_2 + 19x_3 $$ <br>\n",
        "\n",
        "**Restrições** <br>\n",
        "$ 9x_1 + 3x_2 + 5x_3 \\leq 500 $ <br>\n",
        "$ 5x_1 + 4x_2 + 0x_3 \\leq 350 $ <br>\n",
        "$ 3x_1 + 0x_2 + 2x_3 \\leq 150 $ <br>\n",
        "$ x_2 \\leq 20 $"
      ]
    },
    {
      "cell_type": "code",
      "execution_count": null,
      "metadata": {
        "colab": {
          "base_uri": "https://localhost:8080/"
        },
        "id": "OhJkoAbDfkKJ",
        "outputId": "0d83fe26-6af7-462f-f3ea-2c71e82cfeee"
      },
      "outputs": [
        {
          "output_type": "stream",
          "name": "stdout",
          "text": [
            "n_produto_p1 = 45.0\n",
            "n_produto_p2 = 20.0\n",
            "n_produto_p3 = 7.0\n",
            "\n",
            "Lucro máximo (u.m) = 1858.0\n"
          ]
        }
      ],
      "source": [
        "# resolução do problema\n",
        "prob = LpProblem('problema_2_empresa_metalomecanica', LpMaximize)\n",
        "\n",
        "# variáveis\n",
        "x1 = LpVariable('n_produto_p1', lowBound=0, cat=const.LpInteger)\n",
        "x2 = LpVariable('n_produto_p2', lowBound=0, cat=const.LpInteger)\n",
        "x3 = LpVariable('n_produto_p3', lowBound=0, cat=const.LpInteger)\n",
        "\n",
        "# função objetivo\n",
        "prob += 33*x1 + 12*x2 + 19*x3\n",
        "\n",
        "# restrições\n",
        "prob += 9*x1 + 3*x2 + 5*x3 <= 500\n",
        "prob += 5*x1 + 4*x2 + 0*x3 <= 350\n",
        "prob += 3*x1 + 0*x2 + 2*x3 <= 150\n",
        "prob += x2 <= 20\n",
        "\n",
        "prob.solve()\n",
        "\n",
        "for v in prob.variables():\n",
        "    print(v.name, '=', v.varValue)\n",
        "\n",
        "print('\\nLucro máximo (u.m) =', value(prob.objective))"
      ]
    },
    {
      "cell_type": "markdown",
      "metadata": {
        "id": "nlWcHfqZfkKL"
      },
      "source": [
        "---\n",
        "## **PROBLEMA 03**\n",
        "\n",
        "<font face=\"CMU Serif\" size=\"4px\">\n",
        "Uma fábrica produz dois produtos $P_1$ e $P_2$. A produção unitária de cada produto \n",
        "necessita de uma certa quantidade de horas de fabricação sobre cinco máquinas \n",
        "diferentes ($A$, $B$, $C$, $D$ e $E$), como se pode verificar no quadro seguinte:\n",
        "</font>\n",
        "<br><br>\n",
        "\n",
        "<table>\n",
        "  <tr>\n",
        "    <td></td>\n",
        "    <td><b>Máquina</b></td>\n",
        "    <td>$A$</b></td>\n",
        "    <td><b>$B$</b></td>\n",
        "    <td><b>$C$</b></td>\n",
        "    <td><b>$D$</b></td>\n",
        "    <td><b>$E$</b></td>\n",
        "  </tr>\n",
        "  </tr>\n",
        "  <tr>\n",
        "    <td><b>Produto</b></td>\n",
        "    <td></td>\n",
        "  </tr>\n",
        "  <tr>\n",
        "    <td>$P_1$</td>\n",
        "    <td></td>\n",
        "    <td>0</td>\n",
        "    <td>1.5</td>\n",
        "    <td>2</td>\n",
        "    <td>3</td>\n",
        "    <td>3</td>\n",
        "  </tr>\n",
        "  <tr>\n",
        "    <td>$P_2$</td>\n",
        "    <td></td>\n",
        "    <td>3</td>\n",
        "    <td>4</td>\n",
        "    <td>3</td>\n",
        "    <td>2</td>\n",
        "    <td>0</td>\n",
        "  </tr>\n",
        "  <tr>\n",
        "    <td>Disp. de cada máquina</td>\n",
        "    <td></td>\n",
        "    <td>39h</td>\n",
        "    <td>60h</td>\n",
        "    <td>57h</td>\n",
        "    <td>70h</td>\n",
        "    <td>57h</td>\n",
        "  </tr>\n",
        "</table>\n",
        "\n",
        "<br>\n",
        "<p>\n",
        "<font face=\"CMU Serif\" size=\"4px\">\n",
        "As margens brutas unitárias de cada produto são: 6 € para o produto 1 e 15 € para o produto 2.\n",
        "</font>\n",
        "</p>\n",
        "\n",
        "<p>\n",
        "<font face=\"CMU Serif\" size=\"4px\">\n",
        "Formular o programa linear que permite a determinação do plano de produção óptimo desta fábrica.\n",
        "</font>\n",
        "</p>"
      ]
    },
    {
      "cell_type": "markdown",
      "metadata": {
        "id": "VcN0Qsn6fkKN"
      },
      "source": [
        "### Modelagem e resolução\n",
        "**Variáveis** <br>\n",
        "$x_1$: Quantidade de produtos $P_1$ <br>\n",
        "$x_2$: Quantidade de produtos $P_2$ <br>\n",
        "\n",
        "**Função objetivo** <br>\n",
        "$$ \\max \\ 6x_1 + 15x_2 $$ <br>\n",
        "\n",
        "**Restrições** <br>\n",
        "$ 0x_1 + 3x_2 \\leq 39 $ <br>\n",
        "$ 1.5x_1 + 4x_2 \\leq 60 $ <br>\n",
        "$ 2x_1 + 3x_2 \\leq 57 $ <br>\n",
        "$ 3x_1 + 2x_2 \\leq 70 $ <br>\n",
        "$ 3x_1 + 0x_2 \\leq 57 $"
      ]
    },
    {
      "cell_type": "code",
      "execution_count": null,
      "metadata": {
        "colab": {
          "base_uri": "https://localhost:8080/"
        },
        "id": "P_EZagkhfkKO",
        "outputId": "d731d765-39d8-4ff4-a274-8d0223a3cdcf"
      },
      "outputs": [
        {
          "output_type": "stream",
          "name": "stdout",
          "text": [
            "produto_p1 = 13.0\n",
            "produto_p2 = 10.0\n",
            "\n",
            "Lucro máximo (€) = 228.0\n"
          ]
        }
      ],
      "source": [
        "# resolução do problema\n",
        "prob = LpProblem('problema_3_produtos_p1_e_p2', LpMaximize)\n",
        "\n",
        "# variáveis\n",
        "x1 = LpVariable('produto_p1', lowBound=0, cat=const.LpInteger)\n",
        "x2 = LpVariable('produto_p2', lowBound=0, cat=const.LpInteger)\n",
        "\n",
        "# função objetivo\n",
        "prob += 6*x1 + 15*x2\n",
        "\n",
        "# restrições\n",
        "prob += 0*x1 + 3*x2 <= 39\n",
        "prob += 1.5*x1 + 4*x2 <= 60\n",
        "prob += 2*x1 + 3*x2 <= 57\n",
        "prob += 3*x1 + 2*x2 <= 70\n",
        "prob += 3*x1 + 0*x2 <= 57\n",
        "\n",
        "prob.solve()\n",
        "\n",
        "for v in prob.variables():\n",
        "    print(v.name, '=', v.varValue)\n",
        "\n",
        "print('\\nLucro máximo (€) =', value(prob.objective))"
      ]
    },
    {
      "cell_type": "markdown",
      "metadata": {
        "id": "jBLCAJ1afkKP"
      },
      "source": [
        "---\n",
        "## **PROBLEMA 04**\n",
        "\n",
        "<font face=\"CMU Serif\" size=\"4px\">\n",
        "Uma empresa de empacotamento (produção) de carnes pode produzir diariamente até \n",
        "480 presuntos, 400 salpicões e 230 lombos. Cada um destes produtos pode ser vendido \n",
        "fresco ou defumado. O total de presuntos, salpicões e lombos que podem ser defumados \n",
        "num dia de trabalho normal é de 420 unidades; todavia podem ainda ser defumados em \n",
        "horário extraordinário até um total de 250 unidades daqueles produtos. Os lucros \n",
        "líquidos unitários de vendas são os seguintes (em escudos).\n",
        "</font>\n",
        "<br><br>\n",
        "\n",
        "<table border=\"1\" class=\"dataframe\">\n",
        "  <thead>\n",
        "    <tr>\n",
        "      <th></th>\n",
        "      <th></th>\n",
        "      <th colspan=\"2\" halign=\"left\">Defumado em horário</th>\n",
        "    </tr>\n",
        "    <tr>\n",
        "      <th></th>\n",
        "      <th>Fresco</th>\n",
        "      <th>Normal</th>\n",
        "      <th>Extraordinário</th>\n",
        "    </tr>\n",
        "  </thead>\n",
        "  <tbody>\n",
        "    <tr>\n",
        "      <th>Presunto</th>\n",
        "      <td>800</td>\n",
        "      <td>1400</td>\n",
        "      <td>1100</td>\n",
        "    </tr>\n",
        "    <tr>\n",
        "      <th>Salpicão</th>\n",
        "      <td>400</td>\n",
        "      <td>1200</td>\n",
        "      <td>700</td>\n",
        "    </tr>\n",
        "    <tr>\n",
        "      <th>Lombo</th>\n",
        "      <td>400</td>\n",
        "      <td>1300</td>\n",
        "      <td>900</td>\n",
        "    </tr>\n",
        "  </tbody>\n",
        "</table>\n",
        "\n",
        "<br>\n",
        "<p>\n",
        "<font face=\"CMU Serif\" size=\"4px\">\n",
        "O objectivo é planear um esquema de produção (empacotamento) que maximize o lucro \n",
        "diário total, ou seja, saber quantos presuntos frescos e quantos defumados, quantos \n",
        "salpicões frescos e quantos defumados, quantos lombos frescos e quantos defumados se \n",
        "devem produzir diariamente por forma a maximizar a lucro total.\n",
        "</font> \n",
        "</p>\n",
        "\n",
        "<p>\n",
        "<font face=\"CMU Serif\" size=\"4px\">\n",
        "Formule este problema de acordo com um modelo de programação linear.\n",
        "</font>\n",
        "</p>"
      ]
    },
    {
      "cell_type": "markdown",
      "metadata": {
        "id": "ABS_ZigKZSpl"
      },
      "source": [
        "### Modelagem e resolução\n",
        "**Variáveis** <br>\n",
        "$x_1$: Quantidade de presuntos frescos <br>\n",
        "$x_2$: Quantidade de presuntos defumados em horário normal <br>\n",
        "$x_3$: Quantidade de presuntos defumados em horário extraordinário <br>\n",
        "$x_4$: Quantidade de salpicões frescos <br>\n",
        "$x_5$: Quantidade de salpicões defumados em horário normal <br>\n",
        "$x_6$: Quantidade de salpicões defumados em horário extraordinário <br>\n",
        "$x_7$: Quantidade de lombos frescos <br>\n",
        "$x_8$: Quantidade de lombos defumados em horário normal <br>\n",
        "$x_9$: Quantidade de lombos defumados em horário extraordinário <br>\n",
        "\n",
        "**Função objetivo** <br>\n",
        "$$ \\max \\ 800x_1 + 1400x_2 + 1100x_3 $$ $$ \\ \\ \\ \\ \\ \\ \\ \\ \\ + 400x_4 + 1200x_5 + 700x_6 $$ $$ \\ \\ \\ \\ \\ \\ \\ \\ \\ + 400x_7 + 1300x_8 + 900x_9 $$\n",
        "\n",
        "**Restrições de quantidade** <br>\n",
        "$ x_1 + x_2 + x_3 \\leq 480 $ <br>\n",
        "$ x_4 + x_5 + x_6 \\leq 400 $ <br>\n",
        "$ x_7 + x_8 + x_9 \\leq 230 $ <br>\n",
        "\n",
        "**Restrições de defumação** <br>\n",
        "$ x_2 + x_5 + x_8 \\leq 420 $ <br>\n",
        "$ x_3 + x_6 + x_9 \\leq 250 $ <br>\n"
      ]
    },
    {
      "cell_type": "code",
      "execution_count": null,
      "metadata": {
        "colab": {
          "base_uri": "https://localhost:8080/"
        },
        "id": "QZCeYXRzfkKQ",
        "outputId": "5691096f-2c07-401c-bcd2-13f9f269afd4"
      },
      "outputs": [
        {
          "output_type": "stream",
          "name": "stdout",
          "text": [
            "n_lombo_defumado_extra = 210.0\n",
            "n_lombo_defumado_normal = 20.0\n",
            "n_lombo_fresco = 0.0\n",
            "n_presunto_defumado_extra = 40.0\n",
            "n_presunto_defumado_normal = 0.0\n",
            "n_presunto_fresco = 440.0\n",
            "n_salpicao_defumado_extra = 0.0\n",
            "n_salpicao_defumado_normal = 400.0\n",
            "n_salpicao_fresco = 0.0\n",
            "\n",
            "Lucro máximo (escudos) = 1091000.0\n"
          ]
        }
      ],
      "source": [
        "# resolução do problema\n",
        "prob = LpProblem('problema_4_empresa_de_carnes', LpMaximize)\n",
        "\n",
        "# variáveis\n",
        "x1 = LpVariable('n_presunto_fresco', lowBound=0, cat=const.LpInteger)\n",
        "x2 = LpVariable('n_presunto_defumado_normal', lowBound=0, cat=const.LpInteger)\n",
        "x3 = LpVariable('n_presunto_defumado_extra', lowBound=0, cat=const.LpInteger)\n",
        "x4 = LpVariable('n_salpicao_fresco', lowBound=0, cat=const.LpInteger)\n",
        "x5 = LpVariable('n_salpicao_defumado_normal', lowBound=0, cat=const.LpInteger)\n",
        "x6 = LpVariable('n_salpicao_defumado_extra', lowBound=0, cat=const.LpInteger)\n",
        "x7 = LpVariable('n_lombo_fresco', lowBound=0, cat=const.LpInteger)\n",
        "x8 = LpVariable('n_lombo_defumado_normal', lowBound=0, cat=const.LpInteger)\n",
        "x9 = LpVariable('n_lombo_defumado_extra', lowBound=0, cat=const.LpInteger)\n",
        "\n",
        "# função objetivo\n",
        "prob += 800*x1 + 1400*x2 + 1100*x3 + \\\n",
        "        400*x4 + 1200*x5 + 700*x6 + \\\n",
        "        400*x7 + 1300*x8 + 900*x9\n",
        "\n",
        "# restrições de quantidade\n",
        "prob += x1 + x2 + x3 <= 480\n",
        "prob += x4 + x5 + x6 <= 400\n",
        "prob += x7 + x8 + x9 <= 230\n",
        "\n",
        "# restrições de dufamação\n",
        "prob += x2 + x5 + x8 <= 420\n",
        "prob += x3 + x6 + x9 <= 250\n",
        "\n",
        "prob.solve()\n",
        "\n",
        "for v in prob.variables():\n",
        "    print(v.name, '=', v.varValue)\n",
        "\n",
        "print('\\nLucro máximo (escudos) =', value(prob.objective))"
      ]
    },
    {
      "cell_type": "markdown",
      "metadata": {
        "id": "odlf4MgzfkKR"
      },
      "source": [
        "---\n",
        "## **PROBLEMA 05**\n",
        "\n",
        "<p>\n",
        "<font face=\"CMU Serif\" size=\"4px\">\n",
        "Suponha que uma dona de casa pretende servir à família um menu semanal em que \n",
        "entrem seis vegetais, tentando minimizar o custo, mas fornecendo o número de \n",
        "componentes necessários a uma alimentação equilibrada. Na tabela seguinte resumem-se os factores envolvidos.\n",
        "</font>\n",
        "<p>\n",
        "\n",
        "<table border=\"1\" class=\"dataframe\">\n",
        "  <thead>\n",
        "    <tr>\n",
        "      <th></th>\n",
        "      <th></th>\n",
        "      <th colspan=\"5\" halign=\"left\">Unidades/porção (mg)</th>\n",
        "      <th></th>\n",
        "    </tr>\n",
        "    <tr>\n",
        "      <th></th>\n",
        "      <th></th>\n",
        "      <th>Ferro</th>\n",
        "      <th>Fósforo</th>\n",
        "      <th>Vit. A</th>\n",
        "      <th>Vit. B</th>\n",
        "      <th>Vit. C</th>\n",
        "      <th><strong>Custo/porção ($)</strong></th>\n",
        "    </tr>\n",
        "  </thead>\n",
        "  <tbody>\n",
        "    <tr>\n",
        "      <th rowspan=\"6\" valign=\"top\">Vegetal</th>\n",
        "      <th>Feijão verde</th>\n",
        "      <td>0.45</td>\n",
        "      <td>10</td>\n",
        "      <td>415</td>\n",
        "      <td>8</td>\n",
        "      <td>0.3</td>\n",
        "      <td>50</td>\n",
        "    </tr>\n",
        "    <tr>\n",
        "      <th>Cenouras</th>\n",
        "      <td>0.45</td>\n",
        "      <td>28</td>\n",
        "      <td>9065</td>\n",
        "      <td>3</td>\n",
        "      <td>0.35</td>\n",
        "      <td>50</td>\n",
        "    </tr>\n",
        "    <tr>\n",
        "      <th>Brócolos</th>\n",
        "      <td>1.05</td>\n",
        "      <td>50</td>\n",
        "      <td>2550</td>\n",
        "      <td>53</td>\n",
        "      <td>0.6</td>\n",
        "      <td>80</td>\n",
        "    </tr>\n",
        "    <tr>\n",
        "      <th>Couves</th>\n",
        "      <td>0.4</td>\n",
        "      <td>25</td>\n",
        "      <td>75</td>\n",
        "      <td>27</td>\n",
        "      <td>0.15</td>\n",
        "      <td>20</td>\n",
        "    </tr>\n",
        "    <tr>\n",
        "      <th>Nabos</th>\n",
        "      <td>0.5</td>\n",
        "      <td>22</td>\n",
        "      <td>15</td>\n",
        "      <td>5</td>\n",
        "      <td>0.25</td>\n",
        "      <td>60</td>\n",
        "    </tr>\n",
        "    <tr>\n",
        "      <th>Batatas</th>\n",
        "      <td>0.5</td>\n",
        "      <td>75</td>\n",
        "      <td>235</td>\n",
        "      <td>8</td>\n",
        "      <td>0.8</td>\n",
        "      <td>30</td>\n",
        "    </tr>\n",
        "    <tr>\n",
        "      <th>Necessidades semanais mínimas</th>\n",
        "      <th></th>\n",
        "      <td>6</td>\n",
        "      <td>325</td>\n",
        "      <td>17500</td>\n",
        "      <td>245</td>\n",
        "      <td>5</td>\n",
        "      <td></td>\n",
        "    </tr>\n",
        "  </tbody>\n",
        "</table>\n",
        "\n",
        "<br>\n",
        "<p>\n",
        "<font face=\"CMU Serif\" size=\"4px\">\n",
        "Sabe-se ainda que não podem ser servidas mais do que duas porções de couve e mais do que quatro porções dos outros vegetais por semana. \n",
        "</font>\n",
        "</p>\n",
        "\n",
        "<p>\n",
        "<font face=\"CMU Serif\" size=\"4px\">\n",
        "Formule o problema em termos de programação linear de modo a determinar o número \n",
        "de vezes que cada vegetal deve ser servido durante a próxima semana de forma a \n",
        "minimizar os custos e suprir as necessidades alimentares.\n",
        "</font>\n",
        "</p>"
      ]
    },
    {
      "cell_type": "markdown",
      "source": [
        "### Descrição da solução\n",
        "A modelagem abaixo foi realizada utilizando frações no lugar de números decimais, de maneira a manter a mesma mais limpa e precisa."
      ],
      "metadata": {
        "id": "2UAXmLcZer44"
      }
    },
    {
      "cell_type": "markdown",
      "metadata": {
        "id": "TkvjUslnDCJv"
      },
      "source": [
        "### Modelagem e resolução\n",
        "**Variáveis** <br>\n",
        "$x_1$: Unidades de feijão verde <br>\n",
        "$x_2$: Unidades de cenouras <br>\n",
        "$x_3$: Unidades de brócolos <br>\n",
        "$x_4$: Unidades de couves <br>\n",
        "$x_5$: Unidades de nabos <br>\n",
        "$x_6$: Unidades de batatas <br>\n",
        "\n",
        "**Função objetivo** <br>\n",
        "$$ \\min \\ 50x_1 + 50x_2 + 80x_3 + 20x_4 + 60x_5 + 30x_6 $$ <br>\n",
        "\n",
        "**Restrições de necessidades mínimas dos componentes** <br>\n",
        "\n",
        "$$ \\left(\\frac{45}{100}\\right)x_1 + \\left(\\frac{45}{100}\\right)x_2 +\\left(\\frac{105}{10000}\\right)x_3 + \\left(\\frac{4}{10}\\right)x_4 + \\left(\\frac{5}{10}\\right)x_5 + \\left(\\frac{5}{10}\\right)x_6 \\geq 6 $$\n",
        "\n",
        "$$ 10x_1 + 28x_2 + 50x_3 + 25x_4 + 22x_5 + 75x_6 \\geq 325 $$\n",
        "\n",
        "$$ 415x_1 + 9065x_2 + 2550x_3 + 75x_4 + 15x_5 + 235x_6 \\geq 17500 $$\n",
        "\n",
        "$$ 8x_1 +3x_2 + 53x_3 + 27x_4 + 5x_5 + 8x_6 \\geq 245 $$\n",
        "\n",
        "$$ \\left(\\frac{3}{10}\\right)x_1 + \\left(\\frac{35}{100}\\right)x_2 + \\left(\\frac{6}{10}\\right)x_3 + \\left(\\frac{15}{100}\\right)x_4 + \\left(\\frac{25}{100}\\right)x_5 + \\left(\\frac{8}{10}\\right)x_6 \\geq 65 $$ <br>\n",
        "\n",
        "**Restrições de quantidade máxima de poções** <br>\n",
        "$$ x_4 \\leq 2 $$\n",
        "$$ x_1 \\leq 4 $$\n",
        "$$ x_2 \\leq 4 $$\n",
        "$$ x_3 \\leq 4 $$\n",
        "$$ x_5 \\leq 4 $$\n",
        "$$ x_6 \\leq 4 $$"
      ]
    },
    {
      "cell_type": "code",
      "execution_count": null,
      "metadata": {
        "colab": {
          "base_uri": "https://localhost:8080/"
        },
        "id": "mWB8VaeEiZgo",
        "outputId": "254b08b3-da76-4ef0-a75a-dcc589308412"
      },
      "outputs": [
        {
          "output_type": "stream",
          "name": "stdout",
          "text": [
            "n_batatas = 4.0\n",
            "n_brocolos = 3.0\n",
            "n_cenouras = 1.0\n",
            "n_couves = 2.0\n",
            "n_feijao_verde = 0.0\n",
            "n_nabos = 0.0\n",
            "\n",
            "Dinheiro minimo gasto = 450.0\n"
          ]
        }
      ],
      "source": [
        "# resolução do problema\n",
        "prob = LpProblem('problema_5_vegetais', LpMinimize)\n",
        "\n",
        "# variáveis\n",
        "x1 = LpVariable('n_feijao verde', lowBound=0, cat=const.LpInteger)\n",
        "x2 = LpVariable('n_cenouras', lowBound=0, cat=const.LpInteger)\n",
        "x3 = LpVariable('n_brocolos', lowBound=0, cat=const.LpInteger)\n",
        "x4 = LpVariable('n_couves', lowBound=0, cat=const.LpInteger)\n",
        "x5 = LpVariable('n_nabos', lowBound=0, cat=const.LpInteger)\n",
        "x6 = LpVariable('n_batatas', lowBound=0, cat=const.LpInteger)\n",
        "\n",
        "# função objetivo\n",
        "prob += 50*x1 + 50*x2 + 80*x3 + 20*x4 + 60*x5 + 30*x6\n",
        "\n",
        "# restrições de necessidades mínimas dos componentes\n",
        "prob += x1*.45 + x2*.45 + x3*1.05 + x4*.4 + x5*.5 + x6*.5 >= 6\n",
        "prob += x1*10 + x2*28 + x3*50 + x4*25 + x5*22 + x6*75 >= 325\n",
        "prob += x1*415 + x2*9065 + x3*2550 + x4*75 + x5*15 + x6*235 >= 17500\n",
        "prob += x1*8 + x2*3 + x3*53 + x4*27 + x5*5 + x6*8 >= 245\n",
        "prob += x1*.3 + x2*.35 + x3*.6 + x4*.15 + x5*.25 + x6*.8 >= 5\n",
        "\n",
        "# restrições de quantidade máxima de poções\n",
        "prob += x4 <= 2\n",
        "prob += x1 <= 4\n",
        "prob += x2 <= 4\n",
        "prob += x3 <= 4\n",
        "prob += x5 <= 4\n",
        "prob += x6 <= 4\n",
        "\n",
        "prob.solve()\n",
        "\n",
        "for v in prob.variables():\n",
        "    print(v.name, '=', v.varValue)\n",
        "\n",
        "print('\\nDinheiro minimo gasto =', value(prob.objective))"
      ]
    },
    {
      "cell_type": "markdown",
      "metadata": {
        "id": "JdJyxxsjfkKS"
      },
      "source": [
        "---\n",
        "## **PROBLEMA 06**\n",
        "\n",
        "<font face=\"CMU Serif\" size=\"4px\">\n",
        "Pretende-se determinar a composição de uma ração para o gado. O alimento é obtido a \n",
        "partir de uma mistura de três produtos brutos: cevada, amendoim e sésamo. Para \n",
        "responder a certas exigências da clientela, o alimento deverá conter pelo menos 22% de \n",
        "proteínas e 3.6% de matéria gorda. No quadro abaixo, indicamos as quantidades de \n",
        "proteínas e de gorduras presentes respectivamente na cevada, no amendoim e no \n",
        "sésamo, bem como o custo, por tonelada, de cada um destes três produtos brutos.\n",
        "</font>\n",
        "<br><br>\n",
        "\n",
        "| Produto bruto      |   Cevada |   Amendoim |   Sésamo |\n",
        "|:-------------------|---------:|-----------:|---------:|\n",
        "| % de proteínas     |       22 |         52 |       42 |\n",
        "| % de gorduras      |        1 |          2 |       10 |\n",
        "| Custo por tonelada |       25 |         41 |       39 |\n",
        "\n",
        "<br>\n",
        "<font face=\"CMU Serif\" size=\"4px\">\n",
        "Formular, sem resolver, o programa linear que permite a determinação da composição \n",
        "do alimento por forma a minimizar o custo de produção.\n",
        "</font>"
      ]
    },
    {
      "cell_type": "markdown",
      "source": [
        "### Descrição da solução\n",
        "Essa questão, ao nosso entendimento, carece de uma informação que possibilitaria fornecer um número preciso acerca da quantidade de cada produto: a quantidade total de ração que se deseja fazer. Contudo, apesar desta informação não ser disposta no enunciado, para diferentes quantidades totais de ração que se deseja produzir, mantemos a mesma proporção entre cevada e sésamo e amendoim. Nesse sentido, não existe uma resposta objetiva (em gramas) de cada quantidade de produto a ser utilizada, porém existe o percentual de cada produto em relação à quantidade total que se deseja; essas quantidades são, respectivamente, $71,1\\%$ de cevada, $28,9\\%$ de sésamo e $0\\%$ de amendoim. Com esses percentuais, produz-se a ração a um custo mínimo, atendendo aos critérios estabelecidos no enunciado.\n",
        "\n",
        "Na modelagem realizada abaixo, está contida a restrição $ x_1 + x_2 + x_3 = T $, sendo a informação adicional a respeito da quantidade total de toneladas da ração que se deseja produzir, que não está contemplada no enunciado. Esta restriçã afirma que a soma das quantidade de cada ração devem ser iguais à quantidade que se deseja produzir, designada como sendo uma variável $T$.\n",
        "\n",
        "Na solução apresentada no `Python`, utilizamos diferentes valores para $T$, respectivamente $100g$, $1T$, $2T$, $3T$, $4T$ e $5T$. Portanto, foram apresentadas diferentes quantidades de cada produto, para cada solução em cada caso. Como mencionado, observamos que as proporções dos produtos se mantiveram para os diferentes valores de $T$. As respectivas quantidades de cada produto, bem como o custo total associado, juntamente com a proporção dos componentes em relação ao peso total, estão exibidos abaixo da modelagem."
      ],
      "metadata": {
        "id": "TsahF3kz8PI3"
      }
    },
    {
      "cell_type": "markdown",
      "metadata": {
        "id": "uzINR4vB5QAl"
      },
      "source": [
        "### Modelagem e resolução\n",
        "**Variáveis** <br>\n",
        "$x_1$: Toneladas de cevada <br>\n",
        "$x_2$: Toneladas de amendoim <br>\n",
        "$x_3$: Toneladas de sésamo\n",
        "\n",
        "**Função objetivo** <br>\n",
        "$$ \\min \\ 25x_1 + 41x_2 + 39x_3 $$ <br>\n",
        "\n",
        "**Restrições de quantidade** <br>\n",
        "$$ \\left(\\frac{22}{100}\\right)x_1 + \\left(\\frac{52}{100}\\right)x_2 + \\left(\\frac{42}{100}\\right)x_3 \\geq \\left(\\frac{22}{100}\\right)(x_1 + x_2 + x_3) $$\n",
        "\n",
        "$$ \\left(\\frac{1}{100}\\right)x_1 + \\left(\\frac{2}{100}\\right)x_2 + \\left(\\frac{10}{100}\\right)x_3 \\geq \\left(\\frac{36}{1000}\\right)(x_1 + x_2 + x_3) $$\n",
        "\n",
        "$$ x_1 + x_2 + x_3 = T $$ <br>\n"
      ]
    },
    {
      "cell_type": "code",
      "source": [
        "def problema_6_racao_para_gado(toneladas_racao):\n",
        "    # resolução do problema\n",
        "    prob = LpProblem('problema_6_ração_para_gado', LpMinimize)\n",
        "\n",
        "    print('Quantidade de ração (T) =', toneladas_racao)\n",
        "    \n",
        "    # cat=const.LpInteger\n",
        "    # variáveis\n",
        "    x1 = LpVariable('toneladas_cevada', lowBound=0)\n",
        "    x2 = LpVariable('toneladas_amendoim', lowBound=0)\n",
        "    x3 = LpVariable('toneladas_sesamo', lowBound=0)\n",
        "\n",
        "    # função objetivo\n",
        "    prob += 25*x1 + 41*x2 + 39*x3\n",
        "\n",
        "    # restrições acerca da composição mínima da ração\n",
        "    prob += .22*x1 + .52*x2 + .42*x3 >= .22*(x1 + x2 + x3)\n",
        "    prob += .01*x1 + .02*x2 + .1*x3 >= .036*(x1 + x2 + x3)\n",
        "\n",
        "    # restrição acerca da quantidade mínima de ração necessária\n",
        "    prob += 1*x1 + 1*x2 + 1*x3 == toneladas_racao\n",
        "\n",
        "    prob.solve()\n",
        "\n",
        "    for v in prob.variables():\n",
        "        print(v.name, '=', v.varValue)\n",
        "\n",
        "    print(f'\\nRazão entre {x1.name} e {x3.name} =', round(x1.varValue/x3.varValue, 3))\n",
        "    print(f'Percentual de {x1.name} =', round((x1.varValue/toneladas_racao), 3))\n",
        "    print(f'Percentual de {x3.name} =', round((x3.varValue/toneladas_racao), 3))\n",
        "    print('\\nCusto total mínimo =', value(prob.objective))\n",
        "    print('-'*40, '\\n')\n",
        "\n",
        "# diferentes quantidades de ração a serem testadas\n",
        "toneladas_racao = [.1, 1, 2, 3, 4, 5]\n",
        "\n",
        "for i in toneladas_racao:\n",
        "    problema_6_racao_para_gado(toneladas_racao=i)"
      ],
      "metadata": {
        "colab": {
          "base_uri": "https://localhost:8080/"
        },
        "id": "XEkMGvRO52AY",
        "outputId": "e01b7993-41d1-4136-c891-e799059262ca"
      },
      "execution_count": null,
      "outputs": [
        {
          "output_type": "stream",
          "name": "stdout",
          "text": [
            "Quantidade de ração (T) = 0.1\n",
            "toneladas_amendoim = 0.0\n",
            "toneladas_cevada = 0.071111111\n",
            "toneladas_sesamo = 0.028888889\n",
            "\n",
            "Razão entre toneladas_cevada e toneladas_sesamo = 2.462\n",
            "Percentual de toneladas_cevada = 0.711\n",
            "Percentual de toneladas_sesamo = 0.289\n",
            "\n",
            "Custo total mínimo = 2.9044444460000003\n",
            "---------------------------------------- \n",
            "\n",
            "Quantidade de ração (T) = 1\n",
            "toneladas_amendoim = 0.0\n",
            "toneladas_cevada = 0.71111111\n",
            "toneladas_sesamo = 0.28888889\n",
            "\n",
            "Razão entre toneladas_cevada e toneladas_sesamo = 2.462\n",
            "Percentual de toneladas_cevada = 0.711\n",
            "Percentual de toneladas_sesamo = 0.289\n",
            "\n",
            "Custo total mínimo = 29.04444446\n",
            "---------------------------------------- \n",
            "\n",
            "Quantidade de ração (T) = 2\n",
            "toneladas_amendoim = 0.0\n",
            "toneladas_cevada = 1.4222222\n",
            "toneladas_sesamo = 0.57777778\n",
            "\n",
            "Razão entre toneladas_cevada e toneladas_sesamo = 2.462\n",
            "Percentual de toneladas_cevada = 0.711\n",
            "Percentual de toneladas_sesamo = 0.289\n",
            "\n",
            "Custo total mínimo = 58.08888842\n",
            "---------------------------------------- \n",
            "\n",
            "Quantidade de ração (T) = 3\n",
            "toneladas_amendoim = 0.0\n",
            "toneladas_cevada = 2.1333333\n",
            "toneladas_sesamo = 0.86666667\n",
            "\n",
            "Razão entre toneladas_cevada e toneladas_sesamo = 2.462\n",
            "Percentual de toneladas_cevada = 0.711\n",
            "Percentual de toneladas_sesamo = 0.289\n",
            "\n",
            "Custo total mínimo = 87.13333263\n",
            "---------------------------------------- \n",
            "\n",
            "Quantidade de ração (T) = 4\n",
            "toneladas_amendoim = 0.0\n",
            "toneladas_cevada = 2.8444444\n",
            "toneladas_sesamo = 1.1555556\n",
            "\n",
            "Razão entre toneladas_cevada e toneladas_sesamo = 2.462\n",
            "Percentual de toneladas_cevada = 0.711\n",
            "Percentual de toneladas_sesamo = 0.289\n",
            "\n",
            "Custo total mínimo = 116.1777784\n",
            "---------------------------------------- \n",
            "\n",
            "Quantidade de ração (T) = 5\n",
            "toneladas_amendoim = 0.0\n",
            "toneladas_cevada = 3.5555556\n",
            "toneladas_sesamo = 1.4444444\n",
            "\n",
            "Razão entre toneladas_cevada e toneladas_sesamo = 2.462\n",
            "Percentual de toneladas_cevada = 0.711\n",
            "Percentual de toneladas_sesamo = 0.289\n",
            "\n",
            "Custo total mínimo = 145.2222216\n",
            "---------------------------------------- \n",
            "\n"
          ]
        }
      ]
    },
    {
      "cell_type": "markdown",
      "source": [
        "### Modelo simplificado\n",
        "\n",
        "Como foi observado que as quantidades de cada produto mantém uma determinada proporção, criamos um modelo simplificado, a título de exemplificação, do custo mínimo do produto em função da quantidade $T$ de ração que se deseja produzir, dado por\n",
        "\n",
        "$$ f(T) = 25\\left(\\frac{711}{1000}T\\right) + 39\\left(\\frac{289}{1000}T\\right) $$\n",
        "\n",
        "Como exemplo, para $T=1000$, temos ($C_m$ é o custo mínimo):\n",
        "\n",
        "$$ C_m = 25\\left(\\frac{711}{1000}(1000)\\right) + 39\\left(\\frac{289}{1000}(1000)\\right) $$\n",
        "\n",
        "$$ C_m = 25(711) + 39(289) $$\n",
        "\n",
        "$$ C_m = 29.046 $$\n",
        "\n",
        "Outra maneira, mais simplificada de escrever $f(T)$ é\n",
        "\n",
        "$$ f(T) = \\left(\\frac{29046}{1000}\\right)T $$\n",
        "\n",
        "O modelo acima, em palavras, pode ser traduzido pela ideia de que 1000$T$ da ração custa $29.046$, e portanto $1T$ custa $\\left(\\frac{29046}{1000}\\right) = 29,046$. Abaixo, segue a testagem do modelo simplificado criado, par aos mesmos valores de $T$ já utilizados ($100g$, $1T$, $2T$, $3T$, $4T$ e $5T$):"
      ],
      "metadata": {
        "id": "KVlsZYHw5J5-"
      }
    },
    {
      "cell_type": "code",
      "source": [
        "def minimum_ration_cost_by_tons(toneladas_racao):\n",
        "    return 25*(.711*toneladas_racao) + 39*(.289*toneladas_racao)\n",
        "\n",
        "for i in toneladas_racao:\n",
        "    print(f'Para toneladas_racao={i}  \\tCusto total mínimo =', \n",
        "          minimum_ration_cost_by_tons(toneladas_racao=i))"
      ],
      "metadata": {
        "colab": {
          "base_uri": "https://localhost:8080/"
        },
        "id": "BigvzzJpV7gd",
        "outputId": "3eb6184a-3090-4cd7-da7f-caf53a5ccc27"
      },
      "execution_count": null,
      "outputs": [
        {
          "output_type": "stream",
          "name": "stdout",
          "text": [
            "Para toneladas_racao=0.1  \tCusto total mínimo = 2.9046\n",
            "Para toneladas_racao=1  \tCusto total mínimo = 29.046\n",
            "Para toneladas_racao=2  \tCusto total mínimo = 58.092\n",
            "Para toneladas_racao=3  \tCusto total mínimo = 87.138\n",
            "Para toneladas_racao=4  \tCusto total mínimo = 116.184\n",
            "Para toneladas_racao=5  \tCusto total mínimo = 145.23\n"
          ]
        }
      ]
    },
    {
      "cell_type": "markdown",
      "source": [
        "Observamos que os custos associados às diferentes quantidades de ração equivalem aos custos obtidos na modelagem criada."
      ],
      "metadata": {
        "id": "omyPgFOUOu-y"
      }
    },
    {
      "cell_type": "markdown",
      "metadata": {
        "id": "diIbNWLbfkKS"
      },
      "source": [
        "---\n",
        "## **PROBLEMA 07**\n",
        "\n",
        "<font face=\"CMU Serif\" size=\"4px\">\n",
        "Um fabricante possui três fábricas, $A$, $B$ e $C$ que produzem 100, 120 e 120 toneladas de \n",
        "um determinado produto, respectivamente. O produto deverá ser entregue em cinco \n",
        "armazéns ($1$, $2$, $3$, $4$ e $5$), cada um dos quais deve receber a sua parte, 40, 50, 70, 90 e 90 \n",
        "toneladas, respectivamente. Os custos, por tonelada, de transporte entre cada fábrica e \n",
        "cada armazém são dados na tabela seguinte:\n",
        "</font>\n",
        "<br><br>\n",
        "\n",
        "<table border=\"1\" class=\"dataframe\">\n",
        "  <thead>\n",
        "    <tr>\n",
        "      <th></th>\n",
        "      <th></th>\n",
        "      <th colspan=\"5\" halign=\"left\">Armazém</th>\n",
        "    </tr>\n",
        "    <tr>\n",
        "      <th></th>\n",
        "      <th></th>\n",
        "      <th>1</th>\n",
        "      <th>2</th>\n",
        "      <th>3</th>\n",
        "      <th>4</th>\n",
        "      <th>5</th>\n",
        "    </tr>\n",
        "  </thead>\n",
        "  <tbody>\n",
        "    <tr>\n",
        "      <th rowspan=\"3\" valign=\"top\">Fábrica</th>\n",
        "      <th>A</th>\n",
        "      <td>4</td>\n",
        "      <td>1</td>\n",
        "      <td>2</td>\n",
        "      <td>6</td>\n",
        "      <td>9</td>\n",
        "    </tr>\n",
        "    <tr>\n",
        "      <th>B</th>\n",
        "      <td>6</td>\n",
        "      <td>4</td>\n",
        "      <td>3</td>\n",
        "      <td>5</td>\n",
        "      <td>7</td>\n",
        "    </tr>\n",
        "    <tr>\n",
        "      <th>C</th>\n",
        "      <td>5</td>\n",
        "      <td>2</td>\n",
        "      <td>6</td>\n",
        "      <td>4</td>\n",
        "      <td>8</td>\n",
        "    </tr>\n",
        "  </tbody>\n",
        "</table>\n",
        "\n",
        "<br>\n",
        "<font face=\"CMU Serif\" size=\"4px\">\n",
        "Formule o problema em termos de programação linear.\n",
        "</font>"
      ]
    },
    {
      "cell_type": "markdown",
      "metadata": {
        "id": "4DWsJo_MpjK-"
      },
      "source": [
        "### Modelagem e resolução\n",
        "**Variáveis** <br>\n",
        "$x_1$: Quantidade de vezes que foi utilizada a rota $A$ → $1$ <br>\n",
        "$x_2$: Quantidade de vezes que foi utilizada a rota $A$ → $2$ <br>\n",
        "$x_3$: Quantidade de vezes que foi utilizada a rota $A$ → $3$ <br>\n",
        "$x_4$: Quantidade de vezes que foi utilizada a rota $A$ → $4$ <br>\n",
        "$x_5$: Quantidade de vezes que foi utilizada a rota $A$ → $5$ <br>\n",
        "$x_6$: Quantidade de vezes que foi utilizada a rota $B$ → $1$ <br>\n",
        "$x_7$: Quantidade de vezes que foi utilizada a rota $B$ → $2$ <br>\n",
        "$x_8$: Quantidade de vezes que foi utilizada a rota $B$ → $3$ <br>\n",
        "$x_9$: Quantidade de vezes que foi utilizada a rota $B$ → $4$ <br>\n",
        "$x_{10}$: Quantidade de vezes que foi utilizada a rota $B$ → $5$ <br>\n",
        "$x_{11}$: Quantidade de vezes que foi utilizada a rota $C$ → $1$ <br>\n",
        "$x_{12}$: Quantidade de vezes que foi utilizada a rota $C$ → $2$ <br>\n",
        "$x_{13}$: Quantidade de vezes que foi utilizada a rota $C$ → $3$ <br>\n",
        "$x_{14}$: Quantidade de vezes que foi utilizada a rota $C$ → $4$ <br>\n",
        "$x_{15}$: Quantidade de vezes que foi utilizada a rota $C$ → $5$ <br>\n",
        "\n",
        "**Função objetivo** <br>\n",
        "$$ \\min \\ \\sum_{i=1}^{15} k_i x_i \\ \\ \\ k \\in \\{ 4, \\ 1, \\ 2, \\ 6, \\ 9, \\ 6, \\ 4, \\ 3, \\ 5, \\ 7, \\ 5, \\ 2, \\ 6, \\ 4, \\ 8 \\} $$\n",
        "\n",
        "$$ \\min \\ \\ 4x_1 + 1x_2 + 2x_3 + 6x_4 + 9x_5 + 6x_6 + 4x_7 + 3x_8 + 5x_9 + 7x_{10} + 5x_{11} + 2x_{12} + 6x_{13} + 4x_{14} + 8x_{15} $$ <br>\n",
        "\n",
        "**Restrições acerca da quantidade total de toneladas produzidas pelas fábricas** <br>\n",
        "$ x_1 + x_2 + x_3 + x_4 + x_5 = 100 $ <br>\n",
        "$ x_6 + x_7 + x_8 + x_9 + x_{10} = 120 $ <br>\n",
        "$ x_{11} + x_{12} + x_{13} + x_{14} + x_{15} = 120 $ <br>\n",
        "\n",
        "**Restrições acerca da quantidade total de toneladas a serem recebidas pelos armazéns** <br>\n",
        "$ x_1 + x_6 + x_{11} = 40 $ <br>\n",
        "$ x_2 + x_7 + x_{12} = 50 $ <br>\n",
        "$ x_3 + x_8 + x_{13} = 70 $ <br>\n",
        "$ x_4 + x_9 + x_{14} = 90 $ <br>\n",
        "$ x_5 + x_{10} + x_{15} = 90 $"
      ]
    },
    {
      "cell_type": "code",
      "source": [
        "# resolução do problema\n",
        "prob = LpProblem('problema_7_fabricas', LpMinimize)\n",
        "\n",
        "# variáveis\n",
        "x1 = LpVariable('n_rotas_a1', lowBound=0, cat=LpInteger)\n",
        "x2 = LpVariable('n_rotas_a2', lowBound=0, cat=LpInteger)\n",
        "x3 = LpVariable('n_rotas_a3', lowBound=0, cat=LpInteger)\n",
        "x4 = LpVariable('n_rotas_a4', lowBound=0, cat=LpInteger)\n",
        "x5 = LpVariable('n_rotas_a5', lowBound=0, cat=LpInteger)\n",
        "x6 = LpVariable('n_rotas_b1', lowBound=0, cat=LpInteger)\n",
        "x7 = LpVariable('n_rotas_b2', lowBound=0, cat=LpInteger)\n",
        "x8 = LpVariable('n_rotas_b3', lowBound=0, cat=LpInteger)\n",
        "x9 = LpVariable('n_rotas_b4', lowBound=0, cat=LpInteger)\n",
        "x10 = LpVariable('n_rotas_b5', lowBound=0, cat=LpInteger)\n",
        "x11 = LpVariable('n_rotas_c1', lowBound=0, cat=LpInteger)\n",
        "x12 = LpVariable('n_rotas_c2', lowBound=0, cat=LpInteger)\n",
        "x13 = LpVariable('n_rotas_c3', lowBound=0, cat=LpInteger)\n",
        "x14 = LpVariable('n_rotas_c4', lowBound=0, cat=LpInteger)\n",
        "x15 = LpVariable('n_rotas_c5', lowBound=0, cat=LpInteger)\n",
        "\n",
        "# função objetivo\n",
        "prob += 4*x1 + 1*x2 + 2*x3 + 6*x4 + 9*x5 + \\\n",
        "        6*x6 + 4*x7 + 3*x8 + 5*x9 + 7*x10 + \\\n",
        "        5*x11 + 2*x12 + 6*x13 + 4*x14 + 8*x15\n",
        "\n",
        "# restrições acerca da quantidade total de toneladas produzidas pelas fábricas\n",
        "prob += x1 + x2 + x3 + x4 + x5 == 100\n",
        "prob += x6 + x7 + x8 + x9 + x10 == 120\n",
        "prob += x11 + x12 + x13 + x14 + x15 == 120\n",
        "\n",
        "# restrições acerca da quantidade total de toneladas a serem recebidas pelos armazéns\n",
        "prob += x1 + x6 + x11 == 40\n",
        "prob += x2 + x7 + x12 == 50\n",
        "prob += x3 + x8 + x13 == 70\n",
        "prob += x4 + x9 + x14 == 90\n",
        "prob += x5 + x10 + x15 == 90\n",
        "\n",
        "prob.solve()\n",
        "\n",
        "for v in prob.variables():\n",
        "    print(v.name, '=', v.varValue)\n",
        "\n",
        "print('\\nCusto mínimo =', value(prob.objective))"
      ],
      "metadata": {
        "colab": {
          "base_uri": "https://localhost:8080/"
        },
        "id": "ANGeLN7bld_k",
        "outputId": "290bac0d-0012-42e1-e4c4-13d9982f9b08"
      },
      "execution_count": null,
      "outputs": [
        {
          "output_type": "stream",
          "name": "stdout",
          "text": [
            "n_rotas_a1 = 40.0\n",
            "n_rotas_a2 = 20.0\n",
            "n_rotas_a3 = 40.0\n",
            "n_rotas_a4 = 0.0\n",
            "n_rotas_a5 = 0.0\n",
            "n_rotas_b1 = 0.0\n",
            "n_rotas_b2 = 0.0\n",
            "n_rotas_b3 = 30.0\n",
            "n_rotas_b4 = 0.0\n",
            "n_rotas_b5 = 90.0\n",
            "n_rotas_c1 = 0.0\n",
            "n_rotas_c2 = 30.0\n",
            "n_rotas_c3 = 0.0\n",
            "n_rotas_c4 = 90.0\n",
            "n_rotas_c5 = 0.0\n",
            "\n",
            "Custo mínimo = 1400.0\n"
          ]
        }
      ]
    },
    {
      "cell_type": "markdown",
      "metadata": {
        "id": "uH7RkYtFni7c"
      },
      "source": [
        "---\n",
        "## **PROBLEMA 08**\n",
        "\n",
        "<font face=\"CMU Serif\" size=\"4px\">\n",
        "Uma empresa produz dois tipos diferentes ($A$ e $B$) de fio de algodão. O fabrico de 100 $Kg$  de  fio  do  tipo  $A$  requer  2  h  na  secção  de  tinturaria  e  1h  na  secção  de  fiação.  $A$  mesma   quantidade  de  fio  $B$  requer  1.5h  na  secção  de  tinturaria  e  2h  na  secção  de  fiação.  As   secções  de  tinturaria  e  fiação  têm  disponíveis  diariamente  15h  e  12  h  respectivamente.   Por imposição do mercado, a produção diária de fio $A$ não deve ser inferior a 3000 $Kg$.  Os lucros da venda de 100 $Kg$ de fio são de 5 contos para o tipo $A$ e de 10 contos para o  tipo $B$. Pretende-se saber o plano de produção diário que maximize o lucro.\n",
        "</font>"
      ]
    },
    {
      "cell_type": "markdown",
      "metadata": {
        "id": "7kRiA7QwuT8G"
      },
      "source": [
        "### Modelagem e resolução\n",
        "**Variáveis** <br>\n",
        "$x_1$: kg de algodão do tipo A <br>\n",
        "$x_2$: kg de algodão do tipo B <br>\n",
        "\n",
        "**Função objetivo** <br>\n",
        "$$ \\max \\ 5x_1 + 10x_2 $$ <br>\n",
        "\n",
        "**Restrições** <br>\n",
        "$$ 2x_1 + \\left(\\frac{3}{2}\\right)x_2 \\leq 15 $$\n",
        "\n",
        "$$ 1x_1 + 2x_2 \\leq 12 $$\n",
        "$$ x_1 \\leq 3 $$"
      ]
    },
    {
      "cell_type": "code",
      "execution_count": null,
      "metadata": {
        "colab": {
          "base_uri": "https://localhost:8080/"
        },
        "id": "LHCyxdj4ivIu",
        "outputId": "983a588d-3d08-4698-c3d6-bc032c4acf1c"
      },
      "outputs": [
        {
          "output_type": "stream",
          "name": "stdout",
          "text": [
            "kg_algodao_a = 3.0\n",
            "kg_algodao_b = 4.5\n",
            "\n",
            "Lucro máximo (R$) = 60.0\n"
          ]
        }
      ],
      "source": [
        "# resolução do problema\n",
        "prob = LpProblem('problema_8_fios_de_alogodao', LpMaximize)\n",
        "\n",
        "# variáveis\n",
        "x1 = LpVariable('kg_algodao_a', lowBound=0)\n",
        "x2 = LpVariable('kg_algodao_b', lowBound=0)\n",
        "\n",
        "# função objetivo\n",
        "prob += 5*x1 + 10*x2\n",
        "\n",
        "# restrições\n",
        "prob += 2*x1 + 1.5*x2 <= 15\n",
        "prob += 1*x1 + 2*x2 <= 12\n",
        "prob += x1 <= 3\n",
        "\n",
        "prob.solve()\n",
        "\n",
        "for v in prob.variables():\n",
        "    print(v.name, '=', v.varValue)\n",
        "\n",
        "print('\\nLucro máximo (R$) =', value(prob.objective))"
      ]
    },
    {
      "cell_type": "markdown",
      "metadata": {
        "id": "u4L72_fwfkKV"
      },
      "source": [
        "---\n",
        "## **PROBLEMA 09**\n",
        "\n",
        "<p>\n",
        "<font face=\"CMU Serif\" size=\"4px\">\n",
        "Uma empresa pretende fabricar um novo produto e pretende contratar operadores de máquina. Sabe-se que os operadores de máquina se dividem em 3 categorias: \n",
        "especializado, não especializado e estagiário.\n",
        "</p>\n",
        "\n",
        "<p>\n",
        "<font face=\"CMU Serif\" size=\"4px\">\n",
        "Um operador especializado tem 10 anos de experiência e deve ser capaz de produzir 20 peças por dia das requeridas pela empresa. Um operador não especializado tem 6 anos de experiência e deverá produzir 16 peças por dia. Um operador estagiário tem 1 ano de experiência e deverá produzir 12 peças por dia.\n",
        "</p>\n",
        "\n",
        "<p>\n",
        "Devido a entraves legais, sabe-se ainda que pelo menos 30% dos operários a contratar têm de ser especializados e que o número de estagiários a contratar deve ser pelo menos igual ao número de operários não especializados a contratar. \n",
        "</font>\n",
        "</p>\n",
        "\n",
        "<p>\n",
        "<font face=\"CMU Serif\" size=\"4px\">\n",
        "Os salários, por dia, destes 3 tipos de operadores são, respectivamente, 8, 6 e 4 contos. Há no máximo 4 operadores especializados, 7 não especializados e 9 estagiários disponíveis para contratar. Estão orçamentados 400 contos por semana (5 dias) para os salários dos operadores. Por outro lado, a empresa pretende conseguir um nível mínimo total de 60 anos de experiência dos operadores contratados. \n",
        "</font>\n",
        "</p>\n",
        "\n",
        "<p>\n",
        "<font face=\"CMU Serif\" size=\"4px\">\n",
        "A empresa pretende maximizar a produção diária.\n",
        "</font>\n",
        "</p>"
      ]
    },
    {
      "cell_type": "markdown",
      "metadata": {
        "id": "3_jUb9wl17KS"
      },
      "source": [
        "### Modelagem e resolução\n",
        "**Variáveis** <br>\n",
        "$x_1$: Quantidade de operadores especializados <br>\n",
        "$x_2$: Quantidade de operadores não especializados <br>\n",
        "$x_3$: Quantidade de operadores estagiários <br>\n",
        "\n",
        "**Função objetivo** <br>\n",
        "$$ \\max \\ 20x_1 + 16x_2 + 12x_3 $$ <br>\n",
        "\n",
        "**Restrições de proporção entre operadores de cada tipo** <br>\n",
        "$$ x_1 \\geq \\left(\\frac{3}{10}\\right)(x_1 + x_2 + x_3) $$\n",
        "$$ x_3 \\leq x_2 $$ <br>\n",
        "\n",
        "**Restrições de proporção entre operadores de cada tipo** <br>\n",
        "$$ x_1 \\leq 4 $$\n",
        "$$ x_2 \\leq 7 $$\n",
        "$$ x_3 \\leq 9 $$\n",
        "\n",
        "**Restrição de orçamento máximo para salários semanais** <br>\n",
        "$ 5(8x_1 + 6x_2 + 4x_3) \\leq 400 $ <br>\n",
        "\n",
        "**Restrição de nível mínimo total de experiência necessário** <br>\n",
        "$ 10x_1 + 6x_2 + 1x_3 \\geq 60 $\n"
      ]
    },
    {
      "cell_type": "code",
      "source": [
        "# resolução do problema\n",
        "prob = LpProblem('problema_9_operadores', LpMaximize)\n",
        "\n",
        "# variáveis\n",
        "x1 = LpVariable('n_especializado', 0, cat=const.LpInteger)\n",
        "x2 = LpVariable('n_nao_especializado', 0,  cat=const.LpInteger)\n",
        "x3 = LpVariable('n_estagiario', 0,  cat=const.LpInteger)\n",
        "\n",
        "# função objetivo\n",
        "prob += 20*x1 + 16*x2 + 12*x3\n",
        "\n",
        "# restrições de proporção entre operadores de cada tipo\n",
        "prob += x1 >= .3*(x1 + x2 + x3)\n",
        "prob += x3 <= x2\n",
        "\n",
        "# restrições de quantidade máxima de operadores de cada tipo\n",
        "prob += x1 <= 4\n",
        "prob += x2 <= 7\n",
        "prob += x3 <= 9\n",
        "\n",
        "# restrição de orçamento máximo para salários semanais\n",
        "prob += (x1*8 + x2*6 + x3*4) * 5 <= 400\n",
        "\n",
        "# restrição de nível mínimo total de experiência necessário\n",
        "prob += x1*10 + x2*6 + x3*1 >= 60\n",
        "\n",
        "prob.solve()\n",
        "\n",
        "for v in prob.variables():\n",
        "    print(v.name, '=', v.varValue)\n",
        "\n",
        "print('\\nTotal de peças diárias produzidas =', value(prob.objective))"
      ],
      "metadata": {
        "colab": {
          "base_uri": "https://localhost:8080/"
        },
        "id": "w3-pe7mdcEuZ",
        "outputId": "4db5771f-eca7-4640-8567-76a02f2fedae"
      },
      "execution_count": null,
      "outputs": [
        {
          "output_type": "stream",
          "name": "stdout",
          "text": [
            "n_especializado = 4.0\n",
            "n_estagiario = 3.0\n",
            "n_nao_especializado = 6.0\n",
            "\n",
            "Total de peças diárias produzidas = 212.0\n"
          ]
        }
      ]
    },
    {
      "cell_type": "markdown",
      "metadata": {
        "id": "55DsiRacfkKV"
      },
      "source": [
        "---\n",
        "## **PROBLEMA 10***\n",
        "\n",
        "<p>\n",
        "<font face=\"CMU Serif\" size=\"4px\">\n",
        "Uma empresa produz apenas cómodas e armários. Cada cómoda é composta por \n",
        "uma estrutura base de cómoda, 3 gavetas grandes e 2 gavetas pequenas. Cada armário é composto por uma estrutura base de armário, 2 portas e 2 gavetas grandes (iguais às das \n",
        "cómodas).\n",
        "</font>\n",
        "</p>\n",
        "\n",
        "<p>\n",
        "<font face=\"CMU Serif\" size=\"4px\">\n",
        "Cada componente dos moveis deve ser processada nas duas secções da empresa, \n",
        "estando os tempos de processamento indicados na tabela seguinte:\n",
        "</font>\n",
        "</p>\n",
        "\n",
        "|                           | Secção 1   | Secção 2    |\n",
        "|:--------------------------|:-----------|:------------|\n",
        "| **Estrutura base de cómoda**  | 6h         | 4h          |\n",
        "| **Estrutura base de armário** | 6h         | 8h          |\n",
        "| **Gaveta grande**             | 2h         | 2h          |\n",
        "| **Gaveta pequena**            | 1h         | 2h          |\n",
        "| **Porta de armário**          | 3h         | 3h          |\n",
        "| **Tempo disponível**          | 200h       | 150h        |\n",
        "\n",
        "<br>\n",
        "<p>\n",
        "<font face=\"CMU Serif\" size=\"4px\">\n",
        "O número de horas semanais disponíveis é de 200 para a secção 1 e 150 para a secção 2. \n",
        "Podem ser adquiridas mais horas de laboração para a secção 2, com um custo adicional \n",
        "de 1 $u.m.$ por cada hora, e num máximo de 80 horas por semana. \n",
        "As gavetas podem ser compradas (em parte ou na totalidade) a uma outra empresa, \n",
        "implicando um custo adicional de 4 $u.m.$ por gaveta grande e de 3 $u.m.$ por gaveta \n",
        "pequena.\n",
        "</font>\n",
        "</p>\n",
        "\n",
        "<p>\n",
        "<font face=\"CMU Serif\" size=\"4px\">\n",
        "O lucro obtido com cada cómoda é de 35 $u.m$., e o lucro obtido com cada armário é de 45 \n",
        "$u.m.$. O objectivo da empresa é maximizar o lucro. \n",
        "Formule o problema segundo o modelo de programação linear, indicando o significado \n",
        "de cada variável e de cada restrição.\n",
        "</font>\n",
        "</p>"
      ]
    },
    {
      "cell_type": "markdown",
      "metadata": {
        "id": "-MK2E-X2GhzJ"
      },
      "source": [
        "### Modelagem e resolução\n",
        "**Variáveis** <br>\n",
        "$x_1$: Quantidade de cômodas <br>\n",
        "$x_2$: Quantidade de armários <br>\n",
        "$x_3$: Quantidade de horas extra <br>\n",
        "$x_4$: Quantidade de gavetas pequenas para cômoda compradas ($GPCC$) <br>\n",
        "$x_5$: Quantidade de gavetas grandes para cômoda compradas ($GGCC$) <br>\n",
        "$x_6$: Quantidade de gavetas grandes para armário compradas ($GGAC$) <br>\n",
        "$x_7$: Quantidade de bases para cômoda produzidas ($BCP$) <br>\n",
        "$x_8$: Quantidade de gavetas pequenas para cômoda produzidas ($GPCP$) <br>\n",
        "$x_9$: Quantidade de gavetas grandes para cômoda produzidas ($GGCP$) <br>\n",
        "$x_{10}$: Quantidade de bases para armário produzidas ($BAP$) <br>\n",
        "$x_{11}$: Quantidade de portas para armário produzidas ($PAP$) <br>\n",
        "$x_{12}$: Quantidade de gavetas grandes para armário produzidas ($GGAP$) <br>\n",
        "\n",
        "\n",
        "**Função objetivo** <br>\n",
        "$$ \\max \\ 35x_1 + 45x_2 - 1x_3 - 3x_4 - 4x_5 -4x_6 $$ <br>\n",
        "\n",
        "**Restrições acerca do processo de obtenção** <br>\n",
        "$ 6x_7 + 1x_8 + 2x_9 - 6x_10 + 3x_11 + 2x_12 \\leq 200 $ <br>\n",
        "$ 4x_7 + 2x_8 + 2x_9 - 8x_10 + 3x_11 + 2x_12 - x_3 \\leq 150 $ <br>\n",
        "\n",
        "**Restrições de limite de horas extra** <br>\n",
        "$ x_3 \\leq 80 $ <br>\n",
        "\n",
        "**Restrições acerca da estrutura de uma cômoda** <br>\n",
        "$ x_1 - x_7 = 0 $ <br>\n",
        "$ 2x_1 - x_8 - x_4 = 0 $ <br>\n",
        "$ 3x_1 - x_9 - x_5 = 0 $ <br>\n",
        "\n",
        "**Restrições acerca da estrutura de um armário** <br>\n",
        "$ x_2 - x_10 = 0 $ <br>\n",
        "$ 2x_2 - x_11 = 0 $ <br>\n",
        "$ 2x_2 - x_12 - x_6 = 0 $ <br>\n",
        "\n",
        "**Restrições acerca do orçamento máximo da empresa para gavetas externas** <br>\n",
        "$ 3x_4 + 4x_5 + 4x_6 \\leq 80 $"
      ]
    },
    {
      "cell_type": "code",
      "execution_count": null,
      "metadata": {
        "colab": {
          "base_uri": "https://localhost:8080/"
        },
        "id": "RB9YOiQFhWSa",
        "outputId": "0647ae0e-0c45-4c73-ad76-3ce4026c40e6"
      },
      "outputs": [
        {
          "output_type": "stream",
          "name": "stdout",
          "text": [
            "n_armarios = 50.0\n",
            "n_base_armario_produzida_bap = 50.0\n",
            "n_base_comoda_produzida_bcp = 0.0\n",
            "n_comodas = 0.0\n",
            "n_gaveta_grande_armario_comprada_ggac = 0.0\n",
            "n_gaveta_grande_armario_produzida_ggap = 100.0\n",
            "n_gaveta_grande_comoda_comprada_ggcc = 0.0\n",
            "n_gaveta_grande_comoda_produzida_ggcp = 0.0\n",
            "n_gaveta_pequena_comoda_comprada_gpcc = 0.0\n",
            "n_gaveta_pequena_comoda_produzida_gpcp = 0.0\n",
            "n_porta_armario_produzida_pap = 100.0\n",
            "qtd_horas_extra = 0.0\n",
            "\n",
            "Lucro máximo (u.m.) = 2250.0\n"
          ]
        }
      ],
      "source": [
        "# resolução do problema\n",
        "prob = LpProblem('problema_10_comodas_e_armarios', LpMaximize)\n",
        "\n",
        "# lowBound=0, cat=const.LpInteger\n",
        "# variáveis\n",
        "\n",
        "# variáveis de cômodas e armários\n",
        "x1 = LpVariable('n_comodas')\n",
        "x2 = LpVariable('n_armarios')\n",
        "\n",
        "# variáveis de horas extra para a seção 2\n",
        "x3 = LpVariable('qtd_horas_extra')\n",
        "\n",
        "# variáveis de gavetas compradas\n",
        "x4 = LpVariable('n_gaveta_pequena_comoda_comprada_gpcc')\n",
        "x5 = LpVariable('n_gaveta_grande_comoda_comprada_ggcc')\n",
        "x6 = LpVariable('n_gaveta_grande_armario_comprada_ggac')\n",
        "\n",
        "# variáveis de peças produzidas da cômoda\n",
        "x7 = LpVariable('n_base_comoda_produzida_bcp')\n",
        "x8 = LpVariable('n_gaveta_pequena_comoda_produzida_gpcp')\n",
        "x9 = LpVariable('n_gaveta_grande_comoda_produzida_ggcp')\n",
        "\n",
        "# variáveis de peças produzidas do armário\n",
        "x10 = LpVariable('n_base_armario_produzida_bap')\n",
        "x11 = LpVariable('n_porta_armario_produzida_pap')\n",
        "x12 = LpVariable('n_gaveta_grande_armario_produzida_ggap')\n",
        "\n",
        "# função objetivo\n",
        "prob += 35*x1 + 45*x2 - 1*x3 - 3*x4 - 4*x5 - 4*x6\n",
        "\n",
        "# restrições acerca das limitações das seções\n",
        "prob += 6*x7 + 1*x8 + 2*x9 - 6*x10 + 3*x11 + 2*x12 + 1*x4 + 2*x5 + 2*x6 <= 200\n",
        "prob += 4*x7 + 2*x8 + 2*x9 - 8*x10 + 3*x11 + 2*x12 + 1*x4 + 2*x5 + 2*x6 - x3 <= 150\n",
        "\n",
        "# restrições de limite de horas extra\n",
        "prob += x3 <= 80\n",
        "\n",
        "# restrições acerca da estrutura de uma cômoda\n",
        "prob += x1 - x7 == 0\n",
        "prob += 2*x1 - x8 - x4 == 0\n",
        "prob += 3*x1 - x9 - x5 == 0\n",
        "\n",
        "# restrições acerca da estrutura de um armário\n",
        "prob += x2 - x10 == 0\n",
        "prob += 2*x2 - x11 == 0\n",
        "prob += 2*x2 - x12 - x6 == 0\n",
        "\n",
        "# restrições acerca do orçamento máximo da empresa para gavetas externas\n",
        "# prob += 3*x4 + 4*x5 + 4*x6 <= 80\n",
        "\n",
        "prob.solve()\n",
        "\n",
        "for v in prob.variables():\n",
        "    print(v.name, '=', v.varValue)\n",
        "\n",
        "print('\\nLucro máximo (u.m.) =', value(prob.objective))"
      ]
    },
    {
      "cell_type": "markdown",
      "metadata": {
        "id": "b89b9oR7fkKW"
      },
      "source": [
        "---\n",
        "## **PROBLEMA 11***\n",
        "\n",
        "<font face=\"CMU Serif\" size=\"4px\">\n",
        "As existências actuais de tábuas numa fábrica de serração são constituídas por \n",
        "pranchas de madeira de 70 $cm$ de comprimento. Esta fábrica tem uma encomenda de 50 \n",
        "pranchas de 22 $cm$ e 25 pranchas de 20 $cm$ (todas as pranchas têm a mesma largura). \n",
        "Pretende-se satisfazer a encomenda por forma a minimizar o desperdício de madeira, o \n",
        "qual é constituído pelos restos e pelas pranchas produzidas a mais. Formule este \n",
        "problema como um problema de programação linear, interpretando claramente as \n",
        "variáveis de decisão, restrições e a função objectivo.\n",
        "</font>"
      ]
    },
    {
      "cell_type": "markdown",
      "metadata": {
        "id": "VHNyUWa4fJW_"
      },
      "source": [
        "### Modelagem e resolução\n",
        "**Variáveis** <br>\n",
        "As variáveis abaixo referem-se às diferentes formas de se cortar uma tábua de 70 $cm$ de comprimento: <br>\n",
        "$x_1$: Quantidade de tábuas com 3 cortes de 22 $cm$ ($3 \\times 22$) <br>\n",
        "$x_2$: Quantidade de tábuas com 2 cortes de 22 $cm$ e 1 corte de 20 $cm$ ($2 \\times 22 + 1 \\times 20$) <br>\n",
        "$x_3$: Quantidade de tábuas com 1 corte de 22 $cm$ e 2 cortes de 20 $cm$ ($1 \\times 22 + 2 \\times 20$) <br>\n",
        "$x_4$: Quantidade de tábuas com 3 cortes de 20 $cm$ ($3 \\times 20$) <br>\n",
        "\n",
        "**Função objetivo** <br>\n",
        "$$ \\min \\ 4x_1 + 6x_2 + 8x_3 + 10x_4 $$ <br>\n",
        "\n",
        "**Restrições** <br>\n",
        "$ 3x_1 + 2x_2 + 1x_3 + 0x_4 = 50 $ <br>\n",
        "$ 0x_1 + 1x_2 + 2x_3 + 3x_4 = 25 $ <br>"
      ]
    },
    {
      "cell_type": "code",
      "execution_count": null,
      "metadata": {
        "colab": {
          "base_uri": "https://localhost:8080/"
        },
        "id": "B1-tybaRfkKW",
        "outputId": "d8895a6e-c792-4c00-9a5d-b765695b0cec"
      },
      "outputs": [
        {
          "output_type": "stream",
          "name": "stdout",
          "text": [
            "n_cortes_1_x_22_e_2_x_20 = 12.0\n",
            "n_cortes_2_x_22_e_1_x_20 = 1.0\n",
            "n_cortes_3_x_20 = 0.0\n",
            "n_cortes_3_x_22 = 12.0\n",
            "\n",
            "Desperdício mínimo (cm) = 150.0\n"
          ]
        }
      ],
      "source": [
        "# resolução do problema\n",
        "prob = LpProblem('problema_11_tabuas', LpMinimize)\n",
        "\n",
        "# variáveis\n",
        "x1 = LpVariable('n_cortes_3_x_22', lowBound=0, cat=const.LpInteger)\n",
        "x2 = LpVariable('n_cortes_2_x_22_e_1_x_20', lowBound=0, cat=const.LpInteger)\n",
        "x3 = LpVariable('n_cortes_1_x_22_e_2_x_20', lowBound=0, cat=const.LpInteger)\n",
        "x4 = LpVariable('n_cortes_3_x_20', lowBound=0, cat=const.LpInteger)\n",
        "\n",
        "# função objetivo\n",
        "prob += 4*x1 + 6*x2 + 8*x3 + 10*x4\n",
        "\n",
        "# restrições\n",
        "prob += 3*x1 + 2*x2 + 1*x3 + 0*x4 == 50\n",
        "prob += 0*x1 + 1*x2 + 2*x3 + 3*x4 == 25\n",
        "\n",
        "prob.solve()\n",
        "\n",
        "for v in prob.variables():\n",
        "    print(v.name, '=', v.varValue)\n",
        "\n",
        "print('\\nDesperdício mínimo (cm) =', value(prob.objective))"
      ]
    },
    {
      "cell_type": "markdown",
      "metadata": {
        "id": "_p0GC7IDfkKW"
      },
      "source": [
        "---\n",
        "## **PROBLEMA 12**\n",
        "\n",
        "<p>\n",
        "<font face=\"CMU Serif\" size=\"4px\">\n",
        "Considere que se pretende produzir dois bens $A$ e $B$. Utilizam-se na produção duas  matérias primas $C$ e $D$. Para o efeito podem utilizar-se dois processos tecnológicos:\n",
        "</font>\n",
        "</p>\n",
        "\n",
        "<ul>\n",
        "<font face=\"CMU Serif\" size=\"4px\">\n",
        "<li> 1) para produzir 5 unidades de A e duas unidades de B são necessárias, 1 \n",
        "unidade de $C$ e 3 de $D$. </li>\n",
        "</font>\n",
        "<font face=\"CMU Serif\" size=\"4px\">\n",
        "<li> 2) para produzir 3 unidades de $A$ e 8 unidades de $B$ são necessárias 4 unidades de $C$ e 2 de $D$ </li>\n",
        "</font>\n",
        "</ul>\n",
        "\n",
        "<p>\n",
        "<font face=\"CMU Serif\" size=\"4px\">\n",
        "Sabe-se ainda que, durante o período de planeamento, dispomos de 100 unidades de “$C$” \n",
        "e de 150 unidades de “$D$”. Por outro lado, pretende-se produzir pelo menos 200 \n",
        "unidades de $A$ e 75 de $B$. \n",
        "Pretende-se maximizar a produção de $A+B$ durante o período de planeamento.\n",
        "</font> \n",
        "</p>"
      ]
    },
    {
      "cell_type": "markdown",
      "metadata": {
        "id": "o_dD3i8iFhcS"
      },
      "source": [
        "### Modelagem e resolução\n",
        "**Variáveis** <br>\n",
        "$x_1$: Quantidade de bens $A$ oriundos do processo 1 <br>\n",
        "$x_2$: Quantidade de bens $A$ oriundos do processo 2 <br>\n",
        "$x_3$: Quantidade de bens $B$ oriundos do processo 1 <br>\n",
        "$x_4$: Quantidade de bens $B$ oriundos do processo 2 <br>\n",
        "$x_5$: Quantidade de bens $C$ utilizados pelo processo 1 <br>\n",
        "$x_6$: Quantidade de bens $C$ utilizados pelo processo 2 <br>\n",
        "$x_7$: Quantidade de bens $D$ utilizados pelo processo 1 <br>\n",
        "$x_8$: Quantidade de bens $D$ utilizados pelo processo 2 <br>\n",
        "\n",
        "**Função objetivo** <br>\n",
        "$$ \\max \\ \\ x_1 + x_2 + x_3 + x_4 $$\n",
        "\n",
        "**Restrições de máximo de produtos $C$ e $D$ dispostos** <br>\n",
        "$ x_5 + x_6 \\leq 100 $ <br>\n",
        "$ x_7 + x_{8} \\leq 150 $ <br>\n",
        "\n",
        "**Restrições de quantidade mínima de produtos $A$ e $B$ a serem produzidos** <br>\n",
        "$ x_1 + x_2 \\geq 200 $ <br>\n",
        "$ x_3 + x_4 \\geq 75 $ <br>\n",
        "\n",
        "**Restrições de $C$ e $D$ acerca do processo tecnológico $1$ para produzir $A$** <br>\n",
        "$ x_1 - 5x_5 = 0 $ <br>\n",
        "$ 3x_1 -5x_7 = 0 $ <br>\n",
        "\n",
        "**Restrições de $C$ e $D$ acerca do processo tecnológico $2$ para produzir $A$** <br>\n",
        "$ 4x_2 - 3x_6 = 0 $ <br>\n",
        "$ 2x_2 - 3x_{8} = 0 $ <br>\n",
        "\n",
        "**Restrições de $C$ e $D$ acerca do processo tecnológico $1$ para produzir $B$** <br>\n",
        "$ x_3 - 2x_5 = 0 $ <br>\n",
        "$ 3x_3 - 2x_7 = 0 $ <br>\n",
        "\n",
        "**Restrições de $C$ e $D$ acerca do processo tecnológico $2$ para produzir $B$** <br>\n",
        "$ x_4 - 2x_6 = 0 $ <br>\n",
        "$ x_4 - 4x_{8} = 0 $"
      ]
    },
    {
      "cell_type": "code",
      "source": [
        "# resolução do problema\n",
        "prob = LpProblem('problema_12_bens_e_materias_primas', LpMaximize)\n",
        "\n",
        "# variáveis\n",
        "x1 = LpVariable('n_bem_a_por_processo_1', lowBound=0, cat=const.LpInteger)\n",
        "x2 = LpVariable('n_bem_a_por_processo_2', lowBound=0, cat=const.LpInteger)\n",
        "x3 = LpVariable('n_bem_b_por_processo_1', lowBound=0, cat=const.LpInteger)\n",
        "x4 = LpVariable('n_bem_b_por_processo_2', lowBound=0, cat=const.LpInteger)\n",
        "x5 = LpVariable('n_bem_c_processo_1', lowBound=0, cat=const.LpInteger)\n",
        "x6 = LpVariable('n_bem_c_processo_2', lowBound=0, cat=const.LpInteger)\n",
        "x7 = LpVariable('n_bem_d_processo_1', lowBound=0, cat=const.LpInteger)\n",
        "x8 = LpVariable('n_bem_d_processo_2', lowBound=0, cat=const.LpInteger)\n",
        "\n",
        "# função objetivo\n",
        "prob += x1 + x2 + x3 + x4\n",
        "\n",
        "# restrições de máximo de produtos C e D dispostos\n",
        "prob += x5 + x6 <= 100\n",
        "prob += x7 + x8 <= 150\n",
        "\n",
        "# restrições de quantidade mínima de produtos A e B a serem produzidos\n",
        "prob += x1 + x2 >= 200\n",
        "prob += x3 + x4 >= 75\n",
        "\n",
        "# restrições de C e D acerca do processo tecnológico 1 para produzir A\n",
        "prob += x1 - 5*x5 == 0\n",
        "prob += 3*x1 -5*x7 == 0\n",
        "\n",
        "# restrições de C e D acerca do processo tecnológico 2 para produzir A\n",
        "prob += 4*x2 - 3*x6 == 0\n",
        "prob += 2*x2 - 3*x8 == 0\n",
        "\n",
        "# restrições de C e D acerca do processo tecnológico 1 para produzir B\n",
        "prob += x3 - 2*x5 == 0\n",
        "prob += 3*x3 - 2*x7 == 0\n",
        "\n",
        "# restrições de C e D acerca do processo tecnológico 2 para produzir B\n",
        "prob += x4 - 2*x6 == 0\n",
        "prob += x4 - 4*x8 == 0\n",
        "\n",
        "prob.solve()\n",
        "\n",
        "for v in prob.variables():\n",
        "    print(v.name, '=', v.varValue)\n",
        "\n",
        "print('\\nTotal de bens (A + B) =', value(prob.objective))"
      ],
      "metadata": {
        "colab": {
          "base_uri": "https://localhost:8080/"
        },
        "id": "ca-ds0HfPy7X",
        "outputId": "41561f9a-2981-45c0-91b8-52e649e33fff"
      },
      "execution_count": null,
      "outputs": [
        {
          "output_type": "stream",
          "name": "stdout",
          "text": [
            "n_bem_a_por_processo_1 = 200.0\n",
            "n_bem_a_por_processo_2 = 45.0\n",
            "n_bem_b_por_processo_1 = 80.0\n",
            "n_bem_b_por_processo_2 = 120.0\n",
            "n_bem_c_processo_1 = 40.0\n",
            "n_bem_c_processo_2 = 60.0\n",
            "n_bem_d_processo_1 = 120.0\n",
            "n_bem_d_processo_2 = 30.0\n",
            "\n",
            "Total de bens (A + B) = 445.0\n"
          ]
        }
      ]
    },
    {
      "cell_type": "markdown",
      "metadata": {
        "id": "LjrtlC0-fkKX"
      },
      "source": [
        "---\n",
        "## **PROBLEMA 13**\n",
        "\n",
        "<font face=\"CMU Serif\" size=\"4px\">\n",
        "Um criador de porcos pretende determinar as quantidades de cada tipo de ração que \n",
        "devem ser dadas diariamente a cada animal por forma a conseguir uma certa \n",
        "quantidade nutritiva a um custo mínimo. \n",
        "Os dados relativos ao custo de cada tipo de ração, às quantidades mínimas diárias de \n",
        "ingredientes nutritivos básicos a fornecer a cada animal, bem como às quantidades \n",
        "destes existentes em cada tipo de ração ($g/Kg$), constam do quadro a seguir:\n",
        "<br>\n",
        "</font>\n",
        "\n",
        "<table border=\"1\" class=\"dataframe\">\n",
        "  <thead>\n",
        "    <tr>\n",
        "      <th></th>\n",
        "      <th></th>\n",
        "      <th colspan=\"2\" halign=\"left\">Ração</th>\n",
        "      <th></th>\n",
        "    </tr>\n",
        "    <tr>\n",
        "      <th></th>\n",
        "      <th></th>\n",
        "      <th>Granulado</th>\n",
        "      <th>Farinha</th>\n",
        "      <th>Quantidade mínima requerida</th>\n",
        "    </tr>\n",
        "  </thead>\n",
        "  <tbody>\n",
        "    <tr>\n",
        "      <th rowspan=\"3\" valign=\"top\">Ingredientes Nutritivos</th>\n",
        "      <th>Carboidratos</th>\n",
        "      <td>20</td>\n",
        "      <td>50</td>\n",
        "      <td>200</td>\n",
        "    </tr>\n",
        "    <tr>\n",
        "      <th>Vitaminas</th>\n",
        "      <td>50</td>\n",
        "      <td>10</td>\n",
        "      <td>150</td>\n",
        "    </tr>\n",
        "    <tr>\n",
        "      <th>Proteínas</th>\n",
        "      <td>30</td>\n",
        "      <td>30</td>\n",
        "      <td>210</td>\n",
        "    </tr>\n",
        "    <tr>\n",
        "      <th></th>\n",
        "      <th>Custo (Esc/Kg)</th>\n",
        "      <td>10</td>\n",
        "      <td>5</td>\n",
        "      <td></td>\n",
        "    </tr>\n",
        "  </tbody>\n",
        "</table>\n",
        "\n",
        "<br>\n",
        "<font face=\"CMU Serif\" size=\"4px\">\n",
        "Formule o problema de acordo com um modelo de programação linear, de modo a \n",
        "minimizar os custos.\n",
        "</font>\n"
      ]
    },
    {
      "cell_type": "markdown",
      "metadata": {
        "id": "KI3UuOyeBhOj"
      },
      "source": [
        "### Modelagem e resolução\n",
        "**Variáveis** <br>\n",
        "$x_1$: Quantidade de gramas de granulado <br>\n",
        "$x_2$: Quantidade de gramas de farinha <br>\n",
        "\n",
        "**Função objetivo** <br>\n",
        "$$ \\min \\ 10x_1 + 5x_2 $$ <br>\n",
        "\n",
        "**Restrições** <br>\n",
        "$ 20x_1 + 50x_2 \\geq 200 $ <br>\n",
        "$ 50x_1 + 10x_2 \\geq 150 $ <br>\n",
        "$ 30x_1 + 30x_2 \\geq 210 $ <br>"
      ]
    },
    {
      "cell_type": "code",
      "source": [
        "# resolução do problema\n",
        "prob = LpProblem('problema_13_porcos', LpMinimize)\n",
        "\n",
        "# variáveis\n",
        "x1 = LpVariable('n_gramas_granulado', lowBound=0, cat=const.LpInteger)\n",
        "x2 = LpVariable('n_gramas_farinha', lowBound=0, cat=const.LpInteger)\n",
        "\n",
        "# função objetivo\n",
        "prob += 10*x1 + 5*x2\n",
        "\n",
        "# restrições\n",
        "prob += 20*x1 + 50*x2 >= 200\n",
        "prob += 50*x1 + 10*x2 >= 150\n",
        "prob += 30*x1 + 30*x2 >= 210\n",
        "\n",
        "prob.solve()\n",
        "\n",
        "for v in prob.variables():\n",
        "    print(v.name, '=', v.varValue)\n",
        "\n",
        "print('\\nCusto da ração (esc) =', value(prob.objective))"
      ],
      "metadata": {
        "id": "kOv9929Q8l0F",
        "colab": {
          "base_uri": "https://localhost:8080/"
        },
        "outputId": "5de49fe1-3b96-43bb-f1e6-d0bc8fbaf860"
      },
      "execution_count": null,
      "outputs": [
        {
          "output_type": "stream",
          "name": "stdout",
          "text": [
            "n_gramas_farinha = 5.0\n",
            "n_gramas_granulado = 2.0\n",
            "\n",
            "Custo da ração (esc) = 45.0\n"
          ]
        }
      ]
    },
    {
      "cell_type": "markdown",
      "metadata": {
        "id": "taWzHKenfkKX"
      },
      "source": [
        "---\n",
        "## **PROBLEMA 14**\n",
        "\n",
        "<p>\n",
        "<font face=\"CMU Serif\" size=\"4px\">\n",
        "Uma construtora possui um terreno de 9900 $m^2$ onde pretende construir um conjunto \n",
        "de moradias. As moradias a construir nesse terreno são de 3 tipos: Tipos $I$, $II$ e $III$. Cada \n",
        "moradia de tipo $I$ ocupa 170 $m^2$ e permite obter um lucro de 3000 contos; cada uma do \n",
        "tipo $II$ ocupa 120 $m^2$ e permite obter um lucro de 2000 contos; e cada uma do tipo $III$ \n",
        "ocupa 70 $m^2$ e permite obter um lucro de 1000 contos. \n",
        "</font>\n",
        "<p>\n",
        "\n",
        "<font face=\"CMU Serif\" size=\"4px\">\n",
        "A empresa sabe que o projecto de urbanização será aprovado se e só se:\n",
        "</font> \n",
        "\n",
        "<ul>\n",
        "<font face=\"CMU Serif\" size=\"4px\">\n",
        "<li> a área ocupada pelas moradias dos tipos $I$ e $II$ não for superior a 5100 $m^2$ </li>\n",
        "</font>\n",
        "<font face=\"CMU Serif\" size=\"4px\">\n",
        "<li> forem construídas pelo menos 20 moradias do tipo $III$ </li>\n",
        "</font>\n",
        "<font face=\"CMU Serif\" size=\"4px\">\n",
        "<li> forem reservados pelo menos 2000 $m^2$ para jardins, vias e apartamentos (os custos de construção destes serão suportados pela Câmara Municipal). </li>\n",
        "</font>\n",
        "</ul>\n",
        "\n",
        "<p>\n",
        "<font face=\"CMU Serif\" size=\"4px\">\n",
        "O estudo de mercado efectuado mostra que todas as moradias construídas serão \n",
        "vendidas. \n",
        "Formule este problema de acordo com um modelo de programação linear.\n",
        "</font>\n",
        "<p>"
      ]
    },
    {
      "cell_type": "markdown",
      "metadata": {
        "id": "eUCDVC_p8Zwx"
      },
      "source": [
        "### Modelagem e resolução\n",
        "**Variáveis** <br>\n",
        "As variáveis abaixo referem-se às diferentes formas de se cortar uma tábua de 70 $cm$ de comprimento: <br>\n",
        "$x_1$: Quantidade de moradias do tipo $I$ <br>\n",
        "$x_2$: Quantidade de moradias do tipo $II$ <br>\n",
        "$x_3$: Quantidade de moradias do tipo $III$ <br>\n",
        "\n",
        "**Função objetivo** <br>\n",
        "$$ \\max \\ 3000x_1 + 2000x_2 + 1000x_3 $$ <br>\n",
        "\n",
        "**Restrições** <br>\n",
        "$ 170x_1 + 120x_2 \\leq 5100 $ <br>\n",
        "$ x_3 \\geq 20 $ <br>\n",
        "$ 170x_1 + 120x_2 + 70x_3 \\leq 9900 - 2000 $"
      ]
    },
    {
      "cell_type": "code",
      "source": [
        "# resolução do problema\n",
        "prob = LpProblem('problema_14_apartamentos', LpMaximize)\n",
        "\n",
        "# variáveis\n",
        "x1 = LpVariable('n_moradias_i', lowBound=0, cat=const.LpInteger)\n",
        "x2 = LpVariable('n_moradias_ii', lowBound=0, cat=const.LpInteger)\n",
        "x3 = LpVariable('n_moradias_iii', lowBound=0, cat=const.LpInteger)\n",
        "\n",
        "# função objetivo\n",
        "prob += 3000*x1 + 2000*x2 + 1000*x3\n",
        "\n",
        "# restrições\n",
        "prob += 170*x1 + 120*x2 <= 5100\n",
        "prob += x3 >= 20\n",
        "prob += 170*x1 + 120*x2 + 70*x3 <= 9900 - 2000\n",
        "\n",
        "prob.solve()\n",
        "\n",
        "for v in prob.variables():\n",
        "    print(v.name, '=', v.varValue)\n",
        "\n",
        "print('\\nLucro máximo (contos) =', value(prob.objective))"
      ],
      "metadata": {
        "colab": {
          "base_uri": "https://localhost:8080/"
        },
        "id": "dlUO4ZD0zUbC",
        "outputId": "5099691f-21c0-4754-d628-37925566b372"
      },
      "execution_count": null,
      "outputs": [
        {
          "output_type": "stream",
          "name": "stdout",
          "text": [
            "n_moradias_i = 30.0\n",
            "n_moradias_ii = 0.0\n",
            "n_moradias_iii = 40.0\n",
            "\n",
            "Lucro máximo (contos) = 130000.0\n"
          ]
        }
      ]
    },
    {
      "cell_type": "markdown",
      "metadata": {
        "id": "JTWCbTkPfkKY"
      },
      "source": [
        "---\n",
        "## **PROBLEMA  15**\n",
        "\n",
        "<font face=\"CMU Serif\" size=\"4px\">\n",
        "Pretende-se formar equipas de trabalho numa determinada empresa de construção \n",
        "naval. Um número total de quatro equipas deverá ser formado. Cada equipa contém \n",
        "apenas duas pessoas: um técnico e um operário. Para a constituição das equipas \n",
        "considera-se as afinidades existentes entre os operários e os técnicos. Assim, foi pedido \n",
        "a cada operário para atribuir uma nota de 0 a 5 (5 representando a melhor nota) a cada \n",
        "técnico. As notas são apresentadas no quadro seguinte:\n",
        "</font>\n",
        "<br><br>\n",
        "\n",
        "|              |   a |   b |   c |   d |\n",
        "|:-------------|----:|----:|----:|----:|\n",
        "| **Operário I**   |   1 |   4 |   1 |   4 |\n",
        "| **Operário II**  |   4 |   2 |   2 |   1 |\n",
        "| **Operário III** |   5 |   3 |   5 |   1 |\n",
        "| **Operário IV**  |   1 |   2 |   3 |   1 |\n",
        "\n",
        "<br>\n",
        "<font face=\"CMU Serif\" size=\"4px\">\n",
        "Formular, sem resolver, o programa linear que permite a determinação das equipas de \n",
        "trabalho por forma a que a soma total das notas seja máxima.\n",
        "</font> \n"
      ]
    },
    {
      "cell_type": "markdown",
      "metadata": {
        "id": "11bNc5TMF80Q"
      },
      "source": [
        "### Modelagem e resolução\n",
        "**Variáveis** <br>\n",
        "As variáveis abaixo são binárias (0 ou 1): <br>\n",
        "$x_1$: A equipe entre $I$ e $a$ foi formada? <br>\n",
        "$x_2$: A equipe entre $I$ e $b$ foi formada? <br>\n",
        "$x_3$: A equipe entre $I$ e $c$ foi formada? <br>\n",
        "$x_4$: A equipe entre $I$ e $d$ foi formada? <br>\n",
        "$x_5$: A equipe entre $II$ e $a$ foi formada? <br>\n",
        "$x_6$: A equipe entre $II$ e $b$ foi formada? <br>\n",
        "$x_7$: A equipe entre $II$ e $c$ foi formada? <br>\n",
        "$x_8$: A equipe entre $II$ e $d$ foi formada? <br>\n",
        "$x_9$: A equipe entre $III$ e $a$ foi formada? <br>\n",
        "$x_{10}$: A equipe entre $III$ e $b$ foi formada? <br>\n",
        "$x_{11}$: A equipe entre $III$ e $c$ foi formada? <br>\n",
        "$x_{12}$: A equipe entre $III$ e $d$ foi formada? <br>\n",
        "$x_{13}$: A equipe entre $IV$ e $a$ foi formada? <br>\n",
        "$x_{14}$: A equipe entre $IV$ e $b$ foi formada? <br>\n",
        "$x_{15}$: A equipe entre $IV$ e $c$ foi formada? <br>\n",
        "$x_{16}$: A equipe entre $IV$ e $d$ foi formada? <br>\n",
        "\n",
        "**Função objetivo** <br>\n",
        "$$ \\max \\ \\sum_{i=1}^{16} k_i x_i \\ \\ \\ k \\in \\{ 1, \\ 4, \\ 1, \\ 4, \\ 4, \\ 2, \\ 2, \\ 1, \\ 5, \\ 3, \\ 5, \\ 1, \\ 1, \\ 2, \\ 3, \\ 1 \\} $$\n",
        "\n",
        "$$ \\max \\ \\ 1x_1 + 4x_2 + 1x_3 + 4x_4 + 4x_5 + 2x_6 + 2x_7 + 1x_8 + 5x_9 + 3x_{10} + 5x_{11} + 1x_{12} + 1x_{13} + 2x_{14} + 3x_{15} + 1x_{16} $$ <br>\n",
        "\n",
        "**Restrições de um mesmo operário não fazer mais de uma equipe** <br>\n",
        "$ x1 + x2 + x3 + x4 = 1 $ <br>\n",
        "$ x5 + x6 + x7 + x8 = 1 $ <br>\n",
        "$ x9 + x10 + x11 + x12 = 1 $ <br>\n",
        "$ x13 + x14 + x15 + x16 = 1 $\n",
        "\n",
        "**Restrições de um mesmo técnico não fazer mais de uma equipe** <br>\n",
        "$ x1 + x5 + x9 + x13 = 1 $ <br>\n",
        "$ x2 + x6 + x10 + x14 = 1 $ <br>\n",
        "$ x3 + x7 + x11 + x15 = 1 $ <br>\n",
        "$ x4 + x8 + x12 + x16 = 1 $"
      ]
    },
    {
      "cell_type": "code",
      "source": [
        "# resolução do problema\n",
        "prob = LpProblem('problema_15_eqipes_de_trabalho', LpMaximize)\n",
        "\n",
        "# variáveis\n",
        "x1 = LpVariable('equipe_op1_ta', cat=const.LpBinary)\n",
        "x2 = LpVariable('equipe_op1_tb', cat=const.LpBinary)\n",
        "x3 = LpVariable('equipe_op1_tc', cat=const.LpBinary)\n",
        "x4 = LpVariable('equipe_op1_td', cat=const.LpBinary)\n",
        "x5 = LpVariable('equipe_op2_ta', cat=const.LpBinary)\n",
        "x6 = LpVariable('equipe_op2_tb', cat=const.LpBinary)\n",
        "x7 = LpVariable('equipe_op2_tc', cat=const.LpBinary)\n",
        "x8 = LpVariable('equipe_op2_td', cat=const.LpBinary)\n",
        "x9 = LpVariable('equipe_op3_ta', cat=const.LpBinary)\n",
        "x10 = LpVariable('equipe_op3_tb', cat=const.LpBinary)\n",
        "x11 = LpVariable('equipe_op3_tc', cat=const.LpBinary)\n",
        "x12 = LpVariable('equipe_op3_td', cat=const.LpBinary)\n",
        "x13 = LpVariable('equipe_op4_ta', cat=const.LpBinary)\n",
        "x14 = LpVariable('equipe_op4_tb', cat=const.LpBinary)\n",
        "x15 = LpVariable('equipe_op4_tc', cat=const.LpBinary)\n",
        "x16 = LpVariable('equipe_op4_td', cat=const.LpBinary)\n",
        "\n",
        "# função objetivo\n",
        "prob += 1*x1 + 4*x2 + 1*x3 + 4*x4 + \\\n",
        "        4*x5 + 2*x6 + 2*x7 + 1*x8 + \\\n",
        "        5*x9 + 3*x10 + 5*x11 + 1*x12 + \\\n",
        "        1*x13 + 2*x14 + 3*x15 + 1*x16\n",
        "\n",
        "# restrições de um mesmo operário não fazer mais de uma equipe\n",
        "prob += x1 + x2 + x3 + x4 == 1\n",
        "prob += x5 + x6 + x7 + x8 == 1\n",
        "prob += x9 + x10 + x11 + x12 == 1\n",
        "prob += x13 + x14 + x15 + x16 == 1\n",
        "\n",
        "# restrições de um mesmo técnico não fazer mais de uma equipe\n",
        "prob += x1 + x5 + x9 + x13 == 1\n",
        "prob += x2 + x6 + x10 + x14 == 1\n",
        "prob += x3 + x7 + x11 + x15 == 1\n",
        "prob += x4 + x8 + x12 + x16 == 1\n",
        "\n",
        "prob.solve()\n",
        "\n",
        "for v in prob.variables():\n",
        "    print(v.name, '=', v.varValue)\n",
        "\n",
        "print('\\nSoma máxima das notas =', value(prob.objective))"
      ],
      "metadata": {
        "colab": {
          "base_uri": "https://localhost:8080/"
        },
        "id": "mOwvP5b28-U2",
        "outputId": "8f08d5db-2e27-467e-810d-2fdedfd88f4f"
      },
      "execution_count": null,
      "outputs": [
        {
          "output_type": "stream",
          "name": "stdout",
          "text": [
            "equipe_op1_ta = 0.0\n",
            "equipe_op1_tb = 0.0\n",
            "equipe_op1_tc = 0.0\n",
            "equipe_op1_td = 1.0\n",
            "equipe_op2_ta = 1.0\n",
            "equipe_op2_tb = 0.0\n",
            "equipe_op2_tc = 0.0\n",
            "equipe_op2_td = 0.0\n",
            "equipe_op3_ta = 0.0\n",
            "equipe_op3_tb = 0.0\n",
            "equipe_op3_tc = 1.0\n",
            "equipe_op3_td = 0.0\n",
            "equipe_op4_ta = 0.0\n",
            "equipe_op4_tb = 1.0\n",
            "equipe_op4_tc = 0.0\n",
            "equipe_op4_td = 0.0\n",
            "\n",
            "Soma máxima das notas = 15.0\n"
          ]
        }
      ]
    },
    {
      "cell_type": "markdown",
      "source": [
        "**Equipes formadas**\n",
        "\n",
        "|              |   a |   b |   c |   d |\n",
        "|:-------------|----:|----:|----:|----:|\n",
        "| **Operário I**   |   0 |   0 |   0 |   1 |\n",
        "| **Operário II**  |   1 |   0 |   0 |   0 |\n",
        "| **Operário III** |   0 |   0 |   1 |   0 |\n",
        "| **Operário IV**  |   0 |   1 |   0 |   0 |"
      ],
      "metadata": {
        "id": "qJqy5D84DFId"
      }
    },
    {
      "cell_type": "markdown",
      "metadata": {
        "id": "ubaonLj4fkKY"
      },
      "source": [
        "---\n",
        "## **PROBLEMA 16**\n",
        "\n",
        "<p>\n",
        "<font face=\"CMU Serif\" size=\"4px\">\n",
        "Uma empresa pretende escolher a melhor forma de publicitar um determinado produto. \n",
        "A empresa está disposta a usar anúncios na televisão e anúncios radiofónicos. Sabe-se \n",
        "que cada anúncio de televisão do produto a comercializar custa 8 unidades monetárias \n",
        "($u.m.$) e que cada anúncio radiofónico custa 5 $u.m.$. O orçamento da empresa para \n",
        "publicidade é de 58 $u.m.$ e a empresa segue a política de emitir pelo menos 3 anúncios \n",
        "na televisão por cada 2 anúncios transmitidos na rádio. \n",
        "\n",
        "Supondo que por cada anúncio emitido pela rádio a empresa, depois de pago o anúncio, \n",
        "obtém um lucro nas vendas do produto de 2 $u.m.$ e que por cada anúncio de televisão \n",
        "obtém um lucro de 6 $u.m.$, determine o lucro máximo que a empresa pode obter com \n",
        "publicidade. Admita que se utiliza um modelo de programação linear, como primeira \n",
        "aproximação. \n",
        "\n",
        "Formule o problema, indicando as variáveis de decisão, função objectivo e restrições. \n",
        "Justifique todas as suas escolhas.\n",
        "</font>\n",
        "</p>"
      ]
    },
    {
      "cell_type": "markdown",
      "source": [
        "### Descrição da solução\n",
        "\n",
        "Existe uma ambiguidade no enunciado da questão acima, pois é dito que:\n",
        "\n",
        "> \"a empresa segue a política de emitir pelo menos 3 anúncios na televisão por cada 2 anúncios transmitidos na rádio\"\n",
        "\n",
        "No entanto, não é explicitado se podemos emitir anúncios na televisão independentemente de transmitir na rádio, isto é, precisamos nesse caso transmitir 2 na rádio para podermos emitir 3 ou mais na televisão? Em outras palavras, não sabemos se o reverso se aplica, ou seja, se com 3 ou mais anúncios emitidos na televisão, precisamos emitir 2 na rádio. \n",
        "\n",
        "Nesse caso, foram elaboradas duas soluções, uma para cada interpretação:\n",
        "- **Interpretação 01**: Caso o reverso não se aplique, ou seja, para $n$ anúncios emitidos na televisão, não precisamos transmitir nenhum na rádio, nosso lucro máximo se da por $7$ anúncios emitidos na televisão e $0$ na rádio, totalizando $42$ $u.m.$.\n",
        "- **Interpretação 02**: Caso o reverso se aplique, ou seja, se emitirmos $3$ ou mais anúncios na televisão, precisamos transmitir ao menos $2$ anúncios na rádio, obtemos um lucro máximo de $40 u.m.$ com $2$ anúncios na rádio e $6$ anúncios na televisão.\n",
        "\n",
        "Abaixo, foram realizadas duas modelagens, cada qual com sua respectiva solução, contemplando ambas interpretações do enunciado."
      ],
      "metadata": {
        "id": "T-iEnUsV75GI"
      }
    },
    {
      "cell_type": "markdown",
      "metadata": {
        "id": "fGqvOMznAG9u"
      },
      "source": [
        "### Modelagem e resolução para **Interpretação 01**\n",
        "**Variáveis** <br>\n",
        "$x_1$: Quantidade de anúncios na televisão <br>\n",
        "$x_2$: Quantidade de anúncios no rádio <br>\n",
        "\n",
        "**Função objetivo** <br>\n",
        "$$ \\max \\ 6x_1 + 2x_2 $$ <br>\n",
        "\n",
        "**Restrições** <br>\n",
        "$ 8x_1 + 5x_2 \\leq 58 $ <br>\n",
        "$ x_2 - x_1 \\leq -2 $"
      ]
    },
    {
      "cell_type": "code",
      "source": [
        "# resolução do problema\n",
        "prob = LpProblem('problema_16_publicidade', LpMaximize)\n",
        "\n",
        "# variáveis\n",
        "x1 = LpVariable('n_anuncios_televisao', lowBound=0, cat=const.LpInteger)\n",
        "x2 = LpVariable('n_anuncios_radio', lowBound=0, cat=const.LpInteger)\n",
        "\n",
        "# função objetivo\n",
        "prob += 6*x1 + 2*x2\n",
        "\n",
        "# restrição de orçamento\n",
        "prob += 8*x1 + 5*x2 <= 58\n",
        "\n",
        "# restrição de proporção de anúncios\n",
        "prob += x2 - x1 <= -2\n",
        "\n",
        "prob.solve()\n",
        "\n",
        "for v in prob.variables():\n",
        "    print(v.name, '=', v.varValue)\n",
        "\n",
        "print('\\nLucro máximo (u.m.) =', value(prob.objective))"
      ],
      "metadata": {
        "colab": {
          "base_uri": "https://localhost:8080/"
        },
        "id": "_D0SJdx9CMmJ",
        "outputId": "b17b0e8c-92c3-4e43-9e31-f0372483b8e1"
      },
      "execution_count": null,
      "outputs": [
        {
          "output_type": "stream",
          "name": "stdout",
          "text": [
            "n_anuncios_radio = 0.0\n",
            "n_anuncios_televisao = 7.0\n",
            "\n",
            "Lucro máximo (u.m.) = 42.0\n"
          ]
        }
      ]
    },
    {
      "cell_type": "markdown",
      "metadata": {
        "id": "cq7pk-69za2q"
      },
      "source": [
        "### Modelagem e resolução para **Interpretação 02**\n",
        "**Variáveis** <br>\n",
        "$x_1$: Quantidade de anúncios na televisão <br>\n",
        "$x_2$: Quantidade de anúncios no rádio <br>\n",
        "\n",
        "**Função objetivo** <br>\n",
        "$$ \\max \\ 6x_1 + 2x_2 $$ <br>\n",
        "\n",
        "**Restrições** <br>\n",
        "$ 8x_1 + 5x_2 \\leq 58 $ <br>\n",
        "$ x_1 - x_2 \\leq x_1 - 2 $"
      ]
    },
    {
      "cell_type": "code",
      "source": [
        "# resolução do problema\n",
        "prob = LpProblem('problema_16_publicidade', LpMaximize)\n",
        "\n",
        "# variáveis\n",
        "x1 = LpVariable('n_anuncios_televisao', lowBound=0, cat=const.LpInteger)\n",
        "x2 = LpVariable('n_anuncios_radio', lowBound=0, cat=const.LpInteger)\n",
        "\n",
        "# função objetivo\n",
        "prob += 6*x1 + 2*x2\n",
        "\n",
        "# restrição de orçamento\n",
        "prob += 8*x1 + 5*x2 <= 58\n",
        "\n",
        "# restrição de proporção de anúncios\n",
        "prob += x1 - x2 <= x1 - 2\n",
        "\n",
        "prob.solve()\n",
        "\n",
        "for v in prob.variables():\n",
        "    print(v.name, '=', v.varValue)\n",
        "\n",
        "print('\\nLucro máximo (u.m.) =', value(prob.objective))"
      ],
      "metadata": {
        "colab": {
          "base_uri": "https://localhost:8080/"
        },
        "id": "zEyYDhFrUTzu",
        "outputId": "dcb67d58-fecd-407f-fb00-beeb50ce9100"
      },
      "execution_count": null,
      "outputs": [
        {
          "output_type": "stream",
          "name": "stdout",
          "text": [
            "n_anuncios_radio = 2.0\n",
            "n_anuncios_televisao = 6.0\n",
            "\n",
            "Lucro máximo (u.m.) = 40.0\n"
          ]
        }
      ]
    },
    {
      "cell_type": "markdown",
      "metadata": {
        "id": "4ugcNQw8xx3u"
      },
      "source": [
        "---\n",
        "<font face=\"CMU Serif\" size=\"4px\">\n",
        "*Exercícios de nível de dificuldade elevada\n",
        "</font>"
      ]
    },
    {
      "cell_type": "markdown",
      "source": [
        "## **Geração do PDF**"
      ],
      "metadata": {
        "id": "B1QzJGY003gk"
      }
    },
    {
      "cell_type": "code",
      "source": [
        "# !apt-get install -y jupyter-nbconvert"
      ],
      "metadata": {
        "id": "iZ_h1y8Y0DUQ"
      },
      "execution_count": null,
      "outputs": []
    },
    {
      "cell_type": "code",
      "source": [
        "# !jupyter-nbconvert --to PDFviaHTML linear_programming.ipynb"
      ],
      "metadata": {
        "id": "ctHibZcgvbEW"
      },
      "execution_count": null,
      "outputs": []
    }
  ],
  "metadata": {
    "colab": {
      "collapsed_sections": [],
      "name": "linear_programming_lista.ipynb",
      "provenance": []
    },
    "kernelspec": {
      "display_name": "Python 3 (ipykernel)",
      "language": "python",
      "name": "python3"
    },
    "language_info": {
      "codemirror_mode": {
        "name": "ipython",
        "version": 3
      },
      "file_extension": ".py",
      "mimetype": "text/x-python",
      "name": "python",
      "nbconvert_exporter": "python",
      "pygments_lexer": "ipython3",
      "version": "3.9.7"
    }
  },
  "nbformat": 4,
  "nbformat_minor": 0
}